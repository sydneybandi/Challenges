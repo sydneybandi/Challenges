{
 "cells": [
  {
   "cell_type": "markdown",
   "metadata": {},
   "source": [
    "# Pathlight Exercise"
   ]
  },
  {
   "cell_type": "markdown",
   "metadata": {},
   "source": [
    "#### Importing Libraries"
   ]
  },
  {
   "cell_type": "code",
   "execution_count": 1,
   "metadata": {},
   "outputs": [],
   "source": [
    "import pandas as pd\n",
    "import numpy as np\n",
    "import matplotlib.pyplot as plt\n",
    "import seaborn as sns\n",
    "sns.set_style('darkgrid')\n",
    "import warnings\n",
    "warnings.filterwarnings('ignore')\n",
    "from matplotlib.gridspec import GridSpec"
   ]
  },
  {
   "cell_type": "markdown",
   "metadata": {},
   "source": [
    "#### Reading Data"
   ]
  },
  {
   "cell_type": "code",
   "execution_count": 2,
   "metadata": {},
   "outputs": [],
   "source": [
    "# path where data lies\n",
    "root = 'C:/Data/Pathlight/'\n",
    "\n",
    "# reading data\n",
    "tickets = pd.read_csv(root+ 'tickets - tickets.csv')\n",
    "users = pd.read_csv(root+ 'users - users.csv')"
   ]
  },
  {
   "cell_type": "markdown",
   "metadata": {},
   "source": [
    "Only and users and tickets data will be required to build a metric we need as ticket audits and events contains all the changes related to tickets which is not required now."
   ]
  },
  {
   "cell_type": "markdown",
   "metadata": {},
   "source": [
    "### Data Understanding"
   ]
  },
  {
   "cell_type": "markdown",
   "metadata": {},
   "source": [
    "#### Tickets"
   ]
  },
  {
   "cell_type": "markdown",
   "metadata": {},
   "source": [
    "Tickets data contains higher level information about the ticket i.e. when it was created, when it was resolved, who was assigned to it, who submitted the ticket request, etc."
   ]
  },
  {
   "cell_type": "markdown",
   "metadata": {},
   "source": [
    "Ticket data has total 3318 unique tickets"
   ]
  },
  {
   "cell_type": "code",
   "execution_count": 3,
   "metadata": {
    "scrolled": false
   },
   "outputs": [
    {
     "data": {
      "text/html": [
       "<div>\n",
       "<style scoped>\n",
       "    .dataframe tbody tr th:only-of-type {\n",
       "        vertical-align: middle;\n",
       "    }\n",
       "\n",
       "    .dataframe tbody tr th {\n",
       "        vertical-align: top;\n",
       "    }\n",
       "\n",
       "    .dataframe thead th {\n",
       "        text-align: right;\n",
       "    }\n",
       "</style>\n",
       "<table border=\"1\" class=\"dataframe\">\n",
       "  <thead>\n",
       "    <tr style=\"text-align: right;\">\n",
       "      <th></th>\n",
       "      <th>assignee_id</th>\n",
       "      <th>created_at</th>\n",
       "      <th>custom_fields</th>\n",
       "      <th>due_at</th>\n",
       "      <th>generated_timestamp</th>\n",
       "      <th>id</th>\n",
       "      <th>is_public</th>\n",
       "      <th>priority</th>\n",
       "      <th>requester_id</th>\n",
       "      <th>status</th>\n",
       "      <th>submitter_id</th>\n",
       "      <th>updated_at</th>\n",
       "      <th>via__channel</th>\n",
       "    </tr>\n",
       "  </thead>\n",
       "  <tbody>\n",
       "    <tr>\n",
       "      <th>0</th>\n",
       "      <td>10054.0</td>\n",
       "      <td>2020-11-06 12:43:49</td>\n",
       "      <td>NaN</td>\n",
       "      <td>NaN</td>\n",
       "      <td>1605578559</td>\n",
       "      <td>217081</td>\n",
       "      <td>t</td>\n",
       "      <td>urgent</td>\n",
       "      <td>20001</td>\n",
       "      <td>closed</td>\n",
       "      <td>20001</td>\n",
       "      <td>2020-11-17 2:02:39</td>\n",
       "      <td>email</td>\n",
       "    </tr>\n",
       "    <tr>\n",
       "      <th>1</th>\n",
       "      <td>10025.0</td>\n",
       "      <td>2020-11-17 17:31:57</td>\n",
       "      <td>NaN</td>\n",
       "      <td>NaN</td>\n",
       "      <td>1606755706</td>\n",
       "      <td>219304</td>\n",
       "      <td>t</td>\n",
       "      <td>normal</td>\n",
       "      <td>20002</td>\n",
       "      <td>closed</td>\n",
       "      <td>20002</td>\n",
       "      <td>2020-11-30 17:01:46</td>\n",
       "      <td>email</td>\n",
       "    </tr>\n",
       "    <tr>\n",
       "      <th>2</th>\n",
       "      <td>10166.0</td>\n",
       "      <td>2020-11-13 15:22:26</td>\n",
       "      <td>NaN</td>\n",
       "      <td>NaN</td>\n",
       "      <td>1605628894</td>\n",
       "      <td>218594</td>\n",
       "      <td>NaN</td>\n",
       "      <td>normal</td>\n",
       "      <td>20003</td>\n",
       "      <td>closed</td>\n",
       "      <td>20003</td>\n",
       "      <td>2020-11-17 16:01:34</td>\n",
       "      <td>chat</td>\n",
       "    </tr>\n",
       "    <tr>\n",
       "      <th>3</th>\n",
       "      <td>10095.0</td>\n",
       "      <td>2020-11-17 20:24:56</td>\n",
       "      <td>NaN</td>\n",
       "      <td>NaN</td>\n",
       "      <td>1605826887</td>\n",
       "      <td>219392</td>\n",
       "      <td>NaN</td>\n",
       "      <td>low</td>\n",
       "      <td>20004</td>\n",
       "      <td>closed</td>\n",
       "      <td>20004</td>\n",
       "      <td>2020-11-19 23:01:27</td>\n",
       "      <td>chat</td>\n",
       "    </tr>\n",
       "    <tr>\n",
       "      <th>4</th>\n",
       "      <td>10095.0</td>\n",
       "      <td>2020-11-05 21:13:33</td>\n",
       "      <td>NaN</td>\n",
       "      <td>NaN</td>\n",
       "      <td>1605826902</td>\n",
       "      <td>216976</td>\n",
       "      <td>t</td>\n",
       "      <td>low</td>\n",
       "      <td>20005</td>\n",
       "      <td>closed</td>\n",
       "      <td>20005</td>\n",
       "      <td>2020-11-19 23:01:42</td>\n",
       "      <td>chat</td>\n",
       "    </tr>\n",
       "  </tbody>\n",
       "</table>\n",
       "</div>"
      ],
      "text/plain": [
       "   assignee_id           created_at  custom_fields  due_at  \\\n",
       "0      10054.0  2020-11-06 12:43:49            NaN     NaN   \n",
       "1      10025.0  2020-11-17 17:31:57            NaN     NaN   \n",
       "2      10166.0  2020-11-13 15:22:26            NaN     NaN   \n",
       "3      10095.0  2020-11-17 20:24:56            NaN     NaN   \n",
       "4      10095.0  2020-11-05 21:13:33            NaN     NaN   \n",
       "\n",
       "   generated_timestamp      id is_public priority  requester_id  status  \\\n",
       "0           1605578559  217081         t   urgent         20001  closed   \n",
       "1           1606755706  219304         t   normal         20002  closed   \n",
       "2           1605628894  218594       NaN   normal         20003  closed   \n",
       "3           1605826887  219392       NaN      low         20004  closed   \n",
       "4           1605826902  216976         t      low         20005  closed   \n",
       "\n",
       "   submitter_id           updated_at via__channel  \n",
       "0         20001   2020-11-17 2:02:39        email  \n",
       "1         20002  2020-11-30 17:01:46        email  \n",
       "2         20003  2020-11-17 16:01:34         chat  \n",
       "3         20004  2020-11-19 23:01:27         chat  \n",
       "4         20005  2020-11-19 23:01:42         chat  "
      ]
     },
     "execution_count": 3,
     "metadata": {},
     "output_type": "execute_result"
    }
   ],
   "source": [
    "# checking top 5 rows of ticket data\n",
    "tickets.head()"
   ]
  },
  {
   "cell_type": "code",
   "execution_count": 4,
   "metadata": {},
   "outputs": [
    {
     "data": {
      "text/plain": [
       "3318"
      ]
     },
     "execution_count": 4,
     "metadata": {},
     "output_type": "execute_result"
    }
   ],
   "source": [
    "# checking total unique ticket ids \n",
    "tickets.id.nunique()"
   ]
  },
  {
   "cell_type": "code",
   "execution_count": 5,
   "metadata": {
    "scrolled": true
   },
   "outputs": [
    {
     "data": {
      "text/plain": [
       "(3318, 13)"
      ]
     },
     "execution_count": 5,
     "metadata": {},
     "output_type": "execute_result"
    }
   ],
   "source": [
    "# checking number of rows and columns of tickets data\n",
    "tickets.shape"
   ]
  },
  {
   "cell_type": "code",
   "execution_count": 6,
   "metadata": {
    "scrolled": true
   },
   "outputs": [
    {
     "data": {
      "text/plain": [
       "assignee_id              98\n",
       "created_at                0\n",
       "custom_fields          3318\n",
       "due_at                 3318\n",
       "generated_timestamp       0\n",
       "id                        0\n",
       "is_public              1011\n",
       "priority                 61\n",
       "requester_id              0\n",
       "status                    0\n",
       "submitter_id              0\n",
       "updated_at                0\n",
       "via__channel              0\n",
       "dtype: int64"
      ]
     },
     "execution_count": 6,
     "metadata": {},
     "output_type": "execute_result"
    }
   ],
   "source": [
    "# Checking null values\n",
    "tickets.isnull().sum()"
   ]
  },
  {
   "cell_type": "markdown",
   "metadata": {},
   "source": [
    "So, there are total 98 tickets which have not been assigned to anyone. Checking the status of them."
   ]
  },
  {
   "cell_type": "code",
   "execution_count": 7,
   "metadata": {},
   "outputs": [
    {
     "data": {
      "text/plain": [
       "<matplotlib.axes._subplots.AxesSubplot at 0x24a1a846cc0>"
      ]
     },
     "execution_count": 7,
     "metadata": {},
     "output_type": "execute_result"
    },
    {
     "data": {
      "image/png": "[encoded data removed]",
      "text/plain": [
       "<Figure size 432x288 with 1 Axes>"
      ]
     },
     "metadata": {
      "needs_background": "light"
     },
     "output_type": "display_data"
    }
   ],
   "source": [
    "sns.countplot(tickets.status[tickets.assignee_id.isnull() == True])"
   ]
  },
  {
   "cell_type": "markdown",
   "metadata": {},
   "source": [
    "#### Users"
   ]
  },
  {
   "cell_type": "markdown",
   "metadata": {},
   "source": [
    "There are total 50 agents, 9 admins, 5 team leads, 2 managers and 1 director."
   ]
  },
  {
   "cell_type": "code",
   "execution_count": 8,
   "metadata": {
    "scrolled": false
   },
   "outputs": [
    {
     "data": {
      "text/html": [
       "<div>\n",
       "<style scoped>\n",
       "    .dataframe tbody tr th:only-of-type {\n",
       "        vertical-align: middle;\n",
       "    }\n",
       "\n",
       "    .dataframe tbody tr th {\n",
       "        vertical-align: top;\n",
       "    }\n",
       "\n",
       "    .dataframe thead th {\n",
       "        text-align: right;\n",
       "    }\n",
       "</style>\n",
       "<table border=\"1\" class=\"dataframe\">\n",
       "  <thead>\n",
       "    <tr style=\"text-align: right;\">\n",
       "      <th></th>\n",
       "      <th>id</th>\n",
       "      <th>role</th>\n",
       "      <th>role_type</th>\n",
       "      <th>first_name</th>\n",
       "      <th>last_name</th>\n",
       "      <th>email</th>\n",
       "      <th>manager_email</th>\n",
       "    </tr>\n",
       "  </thead>\n",
       "  <tbody>\n",
       "    <tr>\n",
       "      <th>0</th>\n",
       "      <td>10145</td>\n",
       "      <td>admin</td>\n",
       "      <td>NaN</td>\n",
       "      <td>Casey</td>\n",
       "      <td>Andersen</td>\n",
       "      <td>caseyandersen@pathlight.com</td>\n",
       "      <td>donnaho@pathlight.com</td>\n",
       "    </tr>\n",
       "    <tr>\n",
       "      <th>1</th>\n",
       "      <td>10204</td>\n",
       "      <td>team_lead</td>\n",
       "      <td>NaN</td>\n",
       "      <td>Miranda</td>\n",
       "      <td>Anderson</td>\n",
       "      <td>mirandaanderson@pathlight.com</td>\n",
       "      <td>matthewreyes@pathlight.com</td>\n",
       "    </tr>\n",
       "    <tr>\n",
       "      <th>2</th>\n",
       "      <td>10025</td>\n",
       "      <td>agent</td>\n",
       "      <td>NaN</td>\n",
       "      <td>Penny</td>\n",
       "      <td>Ayers</td>\n",
       "      <td>pennyayers@pathlight.com</td>\n",
       "      <td>brittanylogan@pathlight.com</td>\n",
       "    </tr>\n",
       "    <tr>\n",
       "      <th>3</th>\n",
       "      <td>10206</td>\n",
       "      <td>team_lead</td>\n",
       "      <td>NaN</td>\n",
       "      <td>Matthew</td>\n",
       "      <td>Ayers</td>\n",
       "      <td>matthewayers@pathlight.com</td>\n",
       "      <td>jeremyrobertson@pathlight.com</td>\n",
       "    </tr>\n",
       "    <tr>\n",
       "      <th>4</th>\n",
       "      <td>10054</td>\n",
       "      <td>agent</td>\n",
       "      <td>NaN</td>\n",
       "      <td>Todd</td>\n",
       "      <td>Barnes</td>\n",
       "      <td>toddbarnes@pathlight.com</td>\n",
       "      <td>davidbrown@pathlight.com</td>\n",
       "    </tr>\n",
       "  </tbody>\n",
       "</table>\n",
       "</div>"
      ],
      "text/plain": [
       "      id       role  role_type first_name last_name  \\\n",
       "0  10145      admin        NaN      Casey  Andersen   \n",
       "1  10204  team_lead        NaN    Miranda  Anderson   \n",
       "2  10025      agent        NaN      Penny     Ayers   \n",
       "3  10206  team_lead        NaN    Matthew     Ayers   \n",
       "4  10054      agent        NaN       Todd    Barnes   \n",
       "\n",
       "                           email                  manager_email  \n",
       "0    caseyandersen@pathlight.com          donnaho@pathlight.com  \n",
       "1  mirandaanderson@pathlight.com     matthewreyes@pathlight.com  \n",
       "2       pennyayers@pathlight.com    brittanylogan@pathlight.com  \n",
       "3     matthewayers@pathlight.com  jeremyrobertson@pathlight.com  \n",
       "4       toddbarnes@pathlight.com       davidbrown@pathlight.com  "
      ]
     },
     "execution_count": 8,
     "metadata": {},
     "output_type": "execute_result"
    }
   ],
   "source": [
    "# checking top 5 rows of users data\n",
    "users.head()"
   ]
  },
  {
   "cell_type": "code",
   "execution_count": 9,
   "metadata": {},
   "outputs": [
    {
     "data": {
      "text/plain": [
       "67"
      ]
     },
     "execution_count": 9,
     "metadata": {},
     "output_type": "execute_result"
    }
   ],
   "source": [
    "# checking total unique users \n",
    "users.id.nunique()"
   ]
  },
  {
   "cell_type": "code",
   "execution_count": 10,
   "metadata": {
    "scrolled": true
   },
   "outputs": [
    {
     "data": {
      "text/plain": [
       "id                0\n",
       "role              0\n",
       "role_type        66\n",
       "first_name        0\n",
       "last_name         0\n",
       "email             0\n",
       "manager_email     1\n",
       "dtype: int64"
      ]
     },
     "execution_count": 10,
     "metadata": {},
     "output_type": "execute_result"
    }
   ],
   "source": [
    "# Checking null values\n",
    "users.isnull().sum()"
   ]
  },
  {
   "cell_type": "code",
   "execution_count": 11,
   "metadata": {},
   "outputs": [
    {
     "data": {
      "text/plain": [
       "agent        50\n",
       "admin         9\n",
       "team_lead     5\n",
       "manager       2\n",
       "director      1\n",
       "Name: role, dtype: int64"
      ]
     },
     "execution_count": 11,
     "metadata": {},
     "output_type": "execute_result"
    }
   ],
   "source": [
    "# total different types of user\n",
    "users.role.value_counts()"
   ]
  },
  {
   "cell_type": "code",
   "execution_count": 12,
   "metadata": {},
   "outputs": [
    {
     "data": {
      "text/plain": [
       "<matplotlib.axes._subplots.AxesSubplot at 0x24a1a7b8ba8>"
      ]
     },
     "execution_count": 12,
     "metadata": {},
     "output_type": "execute_result"
    },
    {
     "data": {
      "image/png": "[encoded data removed]",
      "text/plain": [
       "<Figure size 432x288 with 1 Axes>"
      ]
     },
     "metadata": {
      "needs_background": "light"
     },
     "output_type": "display_data"
    }
   ],
   "source": [
    "# Visualizing different types of user\n",
    "sns.countplot(users.role)"
   ]
  },
  {
   "cell_type": "markdown",
   "metadata": {},
   "source": [
    "### Data Set Preparation"
   ]
  },
  {
   "cell_type": "markdown",
   "metadata": {},
   "source": [
    "**Steps:**\n",
    "\n",
    "    (1) Remove unnecessary columns from tickets and users\n",
    "    (2) The tickets data contains assignee_id that shows which agent or admin a ticket is currently assigned to. Based on that I would merge a users data.\n",
    "    (3) Users data contains information of all users and their managers' email id. Based on their managers' email id, I would find out their immediate supervisior as well.\n",
    "    \n",
    "    This way I will have information of a ticket, its assignee, team-lead of an assignee and manager of a team-lead.\n",
    "    "
   ]
  },
  {
   "cell_type": "code",
   "execution_count": 13,
   "metadata": {},
   "outputs": [],
   "source": [
    "# dropping unnecessary data from tickets\n",
    "\n",
    "tickets_new = tickets.drop(['custom_fields', 'due_at', 'generated_timestamp', 'is_public', 'requester_id', \\\n",
    "                           'submitter_id', 'priority', 'via__channel'], axis = 1)\n",
    "\n",
    "# merging first and last name of users\n",
    "users['name'] = users.first_name + ' ' + users.last_name\n",
    "# dropping unnecessary data from users\n",
    "users_new = users.drop(['role_type', 'first_name', 'last_name'], axis = 1)"
   ]
  },
  {
   "cell_type": "code",
   "execution_count": 14,
   "metadata": {},
   "outputs": [
    {
     "data": {
      "text/html": [
       "<div>\n",
       "<style scoped>\n",
       "    .dataframe tbody tr th:only-of-type {\n",
       "        vertical-align: middle;\n",
       "    }\n",
       "\n",
       "    .dataframe tbody tr th {\n",
       "        vertical-align: top;\n",
       "    }\n",
       "\n",
       "    .dataframe thead th {\n",
       "        text-align: right;\n",
       "    }\n",
       "</style>\n",
       "<table border=\"1\" class=\"dataframe\">\n",
       "  <thead>\n",
       "    <tr style=\"text-align: right;\">\n",
       "      <th></th>\n",
       "      <th>assignee_id</th>\n",
       "      <th>created_at</th>\n",
       "      <th>ticket_id</th>\n",
       "      <th>status</th>\n",
       "      <th>updated_at</th>\n",
       "      <th>assignee_email</th>\n",
       "      <th>assignee_manager_email</th>\n",
       "      <th>assignee</th>\n",
       "    </tr>\n",
       "  </thead>\n",
       "  <tbody>\n",
       "    <tr>\n",
       "      <th>0</th>\n",
       "      <td>10054.0</td>\n",
       "      <td>2020-11-06 12:43:49</td>\n",
       "      <td>217081</td>\n",
       "      <td>closed</td>\n",
       "      <td>2020-11-17 2:02:39</td>\n",
       "      <td>toddbarnes@pathlight.com</td>\n",
       "      <td>davidbrown@pathlight.com</td>\n",
       "      <td>Todd Barnes</td>\n",
       "    </tr>\n",
       "    <tr>\n",
       "      <th>1</th>\n",
       "      <td>10025.0</td>\n",
       "      <td>2020-11-17 17:31:57</td>\n",
       "      <td>219304</td>\n",
       "      <td>closed</td>\n",
       "      <td>2020-11-30 17:01:46</td>\n",
       "      <td>pennyayers@pathlight.com</td>\n",
       "      <td>brittanylogan@pathlight.com</td>\n",
       "      <td>Penny Ayers</td>\n",
       "    </tr>\n",
       "    <tr>\n",
       "      <th>2</th>\n",
       "      <td>10166.0</td>\n",
       "      <td>2020-11-13 15:22:26</td>\n",
       "      <td>218594</td>\n",
       "      <td>closed</td>\n",
       "      <td>2020-11-17 16:01:34</td>\n",
       "      <td>cherylprice@pathlight.com</td>\n",
       "      <td>matthewayers@pathlight.com</td>\n",
       "      <td>Cheryl Price</td>\n",
       "    </tr>\n",
       "    <tr>\n",
       "      <th>3</th>\n",
       "      <td>10095.0</td>\n",
       "      <td>2020-11-17 20:24:56</td>\n",
       "      <td>219392</td>\n",
       "      <td>closed</td>\n",
       "      <td>2020-11-19 23:01:27</td>\n",
       "      <td>carolynmoore@pathlight.com</td>\n",
       "      <td>mirandaanderson@pathlight.com</td>\n",
       "      <td>Carolyn Moore</td>\n",
       "    </tr>\n",
       "    <tr>\n",
       "      <th>4</th>\n",
       "      <td>10095.0</td>\n",
       "      <td>2020-11-05 21:13:33</td>\n",
       "      <td>216976</td>\n",
       "      <td>closed</td>\n",
       "      <td>2020-11-19 23:01:42</td>\n",
       "      <td>carolynmoore@pathlight.com</td>\n",
       "      <td>mirandaanderson@pathlight.com</td>\n",
       "      <td>Carolyn Moore</td>\n",
       "    </tr>\n",
       "  </tbody>\n",
       "</table>\n",
       "</div>"
      ],
      "text/plain": [
       "   assignee_id           created_at  ticket_id  status           updated_at  \\\n",
       "0      10054.0  2020-11-06 12:43:49     217081  closed   2020-11-17 2:02:39   \n",
       "1      10025.0  2020-11-17 17:31:57     219304  closed  2020-11-30 17:01:46   \n",
       "2      10166.0  2020-11-13 15:22:26     218594  closed  2020-11-17 16:01:34   \n",
       "3      10095.0  2020-11-17 20:24:56     219392  closed  2020-11-19 23:01:27   \n",
       "4      10095.0  2020-11-05 21:13:33     216976  closed  2020-11-19 23:01:42   \n",
       "\n",
       "               assignee_email         assignee_manager_email       assignee  \n",
       "0    toddbarnes@pathlight.com       davidbrown@pathlight.com    Todd Barnes  \n",
       "1    pennyayers@pathlight.com    brittanylogan@pathlight.com    Penny Ayers  \n",
       "2   cherylprice@pathlight.com     matthewayers@pathlight.com   Cheryl Price  \n",
       "3  carolynmoore@pathlight.com  mirandaanderson@pathlight.com  Carolyn Moore  \n",
       "4  carolynmoore@pathlight.com  mirandaanderson@pathlight.com  Carolyn Moore  "
      ]
     },
     "execution_count": 14,
     "metadata": {},
     "output_type": "execute_result"
    }
   ],
   "source": [
    "# merging tickets and users and changing column names\n",
    "df = tickets_new.merge(users_new, left_on='assignee_id', right_on='id', how = 'left')\n",
    "df = df.drop(['id_y','role'], axis = 1)\n",
    "df = df.rename(columns = {'id_x':'ticket_id', 'name':'assignee', 'email':'assignee_email',\\\n",
    "                          'manager_email':'assignee_manager_email'})\n",
    "df.head()"
   ]
  },
  {
   "cell_type": "code",
   "execution_count": 15,
   "metadata": {},
   "outputs": [
    {
     "data": {
      "text/html": [
       "<div>\n",
       "<style scoped>\n",
       "    .dataframe tbody tr th:only-of-type {\n",
       "        vertical-align: middle;\n",
       "    }\n",
       "\n",
       "    .dataframe tbody tr th {\n",
       "        vertical-align: top;\n",
       "    }\n",
       "\n",
       "    .dataframe thead th {\n",
       "        text-align: right;\n",
       "    }\n",
       "</style>\n",
       "<table border=\"1\" class=\"dataframe\">\n",
       "  <thead>\n",
       "    <tr style=\"text-align: right;\">\n",
       "      <th></th>\n",
       "      <th>assignee_id</th>\n",
       "      <th>created_at</th>\n",
       "      <th>ticket_id</th>\n",
       "      <th>status</th>\n",
       "      <th>updated_at</th>\n",
       "      <th>assignee_email</th>\n",
       "      <th>assignee_manager_email</th>\n",
       "      <th>assignee</th>\n",
       "      <th>team_lead_email</th>\n",
       "      <th>team_lead_manager_email</th>\n",
       "      <th>team_lead</th>\n",
       "    </tr>\n",
       "  </thead>\n",
       "  <tbody>\n",
       "    <tr>\n",
       "      <th>0</th>\n",
       "      <td>10054.0</td>\n",
       "      <td>2020-11-06 12:43:49</td>\n",
       "      <td>217081</td>\n",
       "      <td>closed</td>\n",
       "      <td>2020-11-17 2:02:39</td>\n",
       "      <td>toddbarnes@pathlight.com</td>\n",
       "      <td>davidbrown@pathlight.com</td>\n",
       "      <td>Todd Barnes</td>\n",
       "      <td>davidbrown@pathlight.com</td>\n",
       "      <td>matthewreyes@pathlight.com</td>\n",
       "      <td>David Brown</td>\n",
       "    </tr>\n",
       "    <tr>\n",
       "      <th>1</th>\n",
       "      <td>10025.0</td>\n",
       "      <td>2020-11-17 17:31:57</td>\n",
       "      <td>219304</td>\n",
       "      <td>closed</td>\n",
       "      <td>2020-11-30 17:01:46</td>\n",
       "      <td>pennyayers@pathlight.com</td>\n",
       "      <td>brittanylogan@pathlight.com</td>\n",
       "      <td>Penny Ayers</td>\n",
       "      <td>brittanylogan@pathlight.com</td>\n",
       "      <td>matthewreyes@pathlight.com</td>\n",
       "      <td>Brittany Logan</td>\n",
       "    </tr>\n",
       "    <tr>\n",
       "      <th>2</th>\n",
       "      <td>10166.0</td>\n",
       "      <td>2020-11-13 15:22:26</td>\n",
       "      <td>218594</td>\n",
       "      <td>closed</td>\n",
       "      <td>2020-11-17 16:01:34</td>\n",
       "      <td>cherylprice@pathlight.com</td>\n",
       "      <td>matthewayers@pathlight.com</td>\n",
       "      <td>Cheryl Price</td>\n",
       "      <td>matthewayers@pathlight.com</td>\n",
       "      <td>jeremyrobertson@pathlight.com</td>\n",
       "      <td>Matthew Ayers</td>\n",
       "    </tr>\n",
       "    <tr>\n",
       "      <th>3</th>\n",
       "      <td>10095.0</td>\n",
       "      <td>2020-11-17 20:24:56</td>\n",
       "      <td>219392</td>\n",
       "      <td>closed</td>\n",
       "      <td>2020-11-19 23:01:27</td>\n",
       "      <td>carolynmoore@pathlight.com</td>\n",
       "      <td>mirandaanderson@pathlight.com</td>\n",
       "      <td>Carolyn Moore</td>\n",
       "      <td>mirandaanderson@pathlight.com</td>\n",
       "      <td>matthewreyes@pathlight.com</td>\n",
       "      <td>Miranda Anderson</td>\n",
       "    </tr>\n",
       "    <tr>\n",
       "      <th>4</th>\n",
       "      <td>10095.0</td>\n",
       "      <td>2020-11-05 21:13:33</td>\n",
       "      <td>216976</td>\n",
       "      <td>closed</td>\n",
       "      <td>2020-11-19 23:01:42</td>\n",
       "      <td>carolynmoore@pathlight.com</td>\n",
       "      <td>mirandaanderson@pathlight.com</td>\n",
       "      <td>Carolyn Moore</td>\n",
       "      <td>mirandaanderson@pathlight.com</td>\n",
       "      <td>matthewreyes@pathlight.com</td>\n",
       "      <td>Miranda Anderson</td>\n",
       "    </tr>\n",
       "  </tbody>\n",
       "</table>\n",
       "</div>"
      ],
      "text/plain": [
       "   assignee_id           created_at  ticket_id  status           updated_at  \\\n",
       "0      10054.0  2020-11-06 12:43:49     217081  closed   2020-11-17 2:02:39   \n",
       "1      10025.0  2020-11-17 17:31:57     219304  closed  2020-11-30 17:01:46   \n",
       "2      10166.0  2020-11-13 15:22:26     218594  closed  2020-11-17 16:01:34   \n",
       "3      10095.0  2020-11-17 20:24:56     219392  closed  2020-11-19 23:01:27   \n",
       "4      10095.0  2020-11-05 21:13:33     216976  closed  2020-11-19 23:01:42   \n",
       "\n",
       "               assignee_email         assignee_manager_email       assignee  \\\n",
       "0    toddbarnes@pathlight.com       davidbrown@pathlight.com    Todd Barnes   \n",
       "1    pennyayers@pathlight.com    brittanylogan@pathlight.com    Penny Ayers   \n",
       "2   cherylprice@pathlight.com     matthewayers@pathlight.com   Cheryl Price   \n",
       "3  carolynmoore@pathlight.com  mirandaanderson@pathlight.com  Carolyn Moore   \n",
       "4  carolynmoore@pathlight.com  mirandaanderson@pathlight.com  Carolyn Moore   \n",
       "\n",
       "                 team_lead_email        team_lead_manager_email  \\\n",
       "0       davidbrown@pathlight.com     matthewreyes@pathlight.com   \n",
       "1    brittanylogan@pathlight.com     matthewreyes@pathlight.com   \n",
       "2     matthewayers@pathlight.com  jeremyrobertson@pathlight.com   \n",
       "3  mirandaanderson@pathlight.com     matthewreyes@pathlight.com   \n",
       "4  mirandaanderson@pathlight.com     matthewreyes@pathlight.com   \n",
       "\n",
       "          team_lead  \n",
       "0       David Brown  \n",
       "1    Brittany Logan  \n",
       "2     Matthew Ayers  \n",
       "3  Miranda Anderson  \n",
       "4  Miranda Anderson  "
      ]
     },
     "execution_count": 15,
     "metadata": {},
     "output_type": "execute_result"
    }
   ],
   "source": [
    "# merging users based on assignee_manager_email to find team leads\n",
    "\n",
    "df = df.merge(users_new, left_on='assignee_manager_email', right_on='email', how = 'left')\n",
    "df = df.drop(['id', 'role'], axis = 1)\n",
    "df = df.rename(columns = {'name':'team_lead', 'email':'team_lead_email',\\\n",
    "                          'manager_email':'team_lead_manager_email'})\n",
    "df.head()"
   ]
  },
  {
   "cell_type": "code",
   "execution_count": 16,
   "metadata": {},
   "outputs": [
    {
     "data": {
      "text/html": [
       "<div>\n",
       "<style scoped>\n",
       "    .dataframe tbody tr th:only-of-type {\n",
       "        vertical-align: middle;\n",
       "    }\n",
       "\n",
       "    .dataframe tbody tr th {\n",
       "        vertical-align: top;\n",
       "    }\n",
       "\n",
       "    .dataframe thead th {\n",
       "        text-align: right;\n",
       "    }\n",
       "</style>\n",
       "<table border=\"1\" class=\"dataframe\">\n",
       "  <thead>\n",
       "    <tr style=\"text-align: right;\">\n",
       "      <th></th>\n",
       "      <th>assignee_id</th>\n",
       "      <th>created_at</th>\n",
       "      <th>ticket_id</th>\n",
       "      <th>status</th>\n",
       "      <th>updated_at</th>\n",
       "      <th>assignee_email</th>\n",
       "      <th>assignee_manager_email</th>\n",
       "      <th>assignee</th>\n",
       "      <th>team_lead_email</th>\n",
       "      <th>team_lead_manager_email</th>\n",
       "      <th>team_lead</th>\n",
       "      <th>manager_email</th>\n",
       "      <th>director_email</th>\n",
       "      <th>manager</th>\n",
       "    </tr>\n",
       "  </thead>\n",
       "  <tbody>\n",
       "    <tr>\n",
       "      <th>0</th>\n",
       "      <td>10054.0</td>\n",
       "      <td>2020-11-06 12:43:49</td>\n",
       "      <td>217081</td>\n",
       "      <td>closed</td>\n",
       "      <td>2020-11-17 2:02:39</td>\n",
       "      <td>toddbarnes@pathlight.com</td>\n",
       "      <td>davidbrown@pathlight.com</td>\n",
       "      <td>Todd Barnes</td>\n",
       "      <td>davidbrown@pathlight.com</td>\n",
       "      <td>matthewreyes@pathlight.com</td>\n",
       "      <td>David Brown</td>\n",
       "      <td>matthewreyes@pathlight.com</td>\n",
       "      <td>juliasmith@pathlight.com</td>\n",
       "      <td>Matthew Reyes</td>\n",
       "    </tr>\n",
       "    <tr>\n",
       "      <th>1</th>\n",
       "      <td>10025.0</td>\n",
       "      <td>2020-11-17 17:31:57</td>\n",
       "      <td>219304</td>\n",
       "      <td>closed</td>\n",
       "      <td>2020-11-30 17:01:46</td>\n",
       "      <td>pennyayers@pathlight.com</td>\n",
       "      <td>brittanylogan@pathlight.com</td>\n",
       "      <td>Penny Ayers</td>\n",
       "      <td>brittanylogan@pathlight.com</td>\n",
       "      <td>matthewreyes@pathlight.com</td>\n",
       "      <td>Brittany Logan</td>\n",
       "      <td>matthewreyes@pathlight.com</td>\n",
       "      <td>juliasmith@pathlight.com</td>\n",
       "      <td>Matthew Reyes</td>\n",
       "    </tr>\n",
       "    <tr>\n",
       "      <th>2</th>\n",
       "      <td>10166.0</td>\n",
       "      <td>2020-11-13 15:22:26</td>\n",
       "      <td>218594</td>\n",
       "      <td>closed</td>\n",
       "      <td>2020-11-17 16:01:34</td>\n",
       "      <td>cherylprice@pathlight.com</td>\n",
       "      <td>matthewayers@pathlight.com</td>\n",
       "      <td>Cheryl Price</td>\n",
       "      <td>matthewayers@pathlight.com</td>\n",
       "      <td>jeremyrobertson@pathlight.com</td>\n",
       "      <td>Matthew Ayers</td>\n",
       "      <td>jeremyrobertson@pathlight.com</td>\n",
       "      <td>juliasmith@pathlight.com</td>\n",
       "      <td>Jeremy Robertson</td>\n",
       "    </tr>\n",
       "    <tr>\n",
       "      <th>3</th>\n",
       "      <td>10095.0</td>\n",
       "      <td>2020-11-17 20:24:56</td>\n",
       "      <td>219392</td>\n",
       "      <td>closed</td>\n",
       "      <td>2020-11-19 23:01:27</td>\n",
       "      <td>carolynmoore@pathlight.com</td>\n",
       "      <td>mirandaanderson@pathlight.com</td>\n",
       "      <td>Carolyn Moore</td>\n",
       "      <td>mirandaanderson@pathlight.com</td>\n",
       "      <td>matthewreyes@pathlight.com</td>\n",
       "      <td>Miranda Anderson</td>\n",
       "      <td>matthewreyes@pathlight.com</td>\n",
       "      <td>juliasmith@pathlight.com</td>\n",
       "      <td>Matthew Reyes</td>\n",
       "    </tr>\n",
       "    <tr>\n",
       "      <th>4</th>\n",
       "      <td>10095.0</td>\n",
       "      <td>2020-11-05 21:13:33</td>\n",
       "      <td>216976</td>\n",
       "      <td>closed</td>\n",
       "      <td>2020-11-19 23:01:42</td>\n",
       "      <td>carolynmoore@pathlight.com</td>\n",
       "      <td>mirandaanderson@pathlight.com</td>\n",
       "      <td>Carolyn Moore</td>\n",
       "      <td>mirandaanderson@pathlight.com</td>\n",
       "      <td>matthewreyes@pathlight.com</td>\n",
       "      <td>Miranda Anderson</td>\n",
       "      <td>matthewreyes@pathlight.com</td>\n",
       "      <td>juliasmith@pathlight.com</td>\n",
       "      <td>Matthew Reyes</td>\n",
       "    </tr>\n",
       "  </tbody>\n",
       "</table>\n",
       "</div>"
      ],
      "text/plain": [
       "   assignee_id           created_at  ticket_id  status           updated_at  \\\n",
       "0      10054.0  2020-11-06 12:43:49     217081  closed   2020-11-17 2:02:39   \n",
       "1      10025.0  2020-11-17 17:31:57     219304  closed  2020-11-30 17:01:46   \n",
       "2      10166.0  2020-11-13 15:22:26     218594  closed  2020-11-17 16:01:34   \n",
       "3      10095.0  2020-11-17 20:24:56     219392  closed  2020-11-19 23:01:27   \n",
       "4      10095.0  2020-11-05 21:13:33     216976  closed  2020-11-19 23:01:42   \n",
       "\n",
       "               assignee_email         assignee_manager_email       assignee  \\\n",
       "0    toddbarnes@pathlight.com       davidbrown@pathlight.com    Todd Barnes   \n",
       "1    pennyayers@pathlight.com    brittanylogan@pathlight.com    Penny Ayers   \n",
       "2   cherylprice@pathlight.com     matthewayers@pathlight.com   Cheryl Price   \n",
       "3  carolynmoore@pathlight.com  mirandaanderson@pathlight.com  Carolyn Moore   \n",
       "4  carolynmoore@pathlight.com  mirandaanderson@pathlight.com  Carolyn Moore   \n",
       "\n",
       "                 team_lead_email        team_lead_manager_email  \\\n",
       "0       davidbrown@pathlight.com     matthewreyes@pathlight.com   \n",
       "1    brittanylogan@pathlight.com     matthewreyes@pathlight.com   \n",
       "2     matthewayers@pathlight.com  jeremyrobertson@pathlight.com   \n",
       "3  mirandaanderson@pathlight.com     matthewreyes@pathlight.com   \n",
       "4  mirandaanderson@pathlight.com     matthewreyes@pathlight.com   \n",
       "\n",
       "          team_lead                  manager_email            director_email  \\\n",
       "0       David Brown     matthewreyes@pathlight.com  juliasmith@pathlight.com   \n",
       "1    Brittany Logan     matthewreyes@pathlight.com  juliasmith@pathlight.com   \n",
       "2     Matthew Ayers  jeremyrobertson@pathlight.com  juliasmith@pathlight.com   \n",
       "3  Miranda Anderson     matthewreyes@pathlight.com  juliasmith@pathlight.com   \n",
       "4  Miranda Anderson     matthewreyes@pathlight.com  juliasmith@pathlight.com   \n",
       "\n",
       "            manager  \n",
       "0     Matthew Reyes  \n",
       "1     Matthew Reyes  \n",
       "2  Jeremy Robertson  \n",
       "3     Matthew Reyes  \n",
       "4     Matthew Reyes  "
      ]
     },
     "execution_count": 16,
     "metadata": {},
     "output_type": "execute_result"
    }
   ],
   "source": [
    "# again merging users based on team_lead_manager_email to find managers\n",
    "\n",
    "df = df.merge(users_new, left_on='team_lead_manager_email', right_on='email', how = 'left')\n",
    "df = df.drop(['id', 'role'], axis = 1)\n",
    "df = df.rename(columns = {'name':'manager', 'email':'manager_email',\\\n",
    "                          'manager_email':'director_email'})\n",
    "df.head()"
   ]
  },
  {
   "cell_type": "code",
   "execution_count": 17,
   "metadata": {},
   "outputs": [
    {
     "data": {
      "text/html": [
       "<div>\n",
       "<style scoped>\n",
       "    .dataframe tbody tr th:only-of-type {\n",
       "        vertical-align: middle;\n",
       "    }\n",
       "\n",
       "    .dataframe tbody tr th {\n",
       "        vertical-align: top;\n",
       "    }\n",
       "\n",
       "    .dataframe thead th {\n",
       "        text-align: right;\n",
       "    }\n",
       "</style>\n",
       "<table border=\"1\" class=\"dataframe\">\n",
       "  <thead>\n",
       "    <tr style=\"text-align: right;\">\n",
       "      <th></th>\n",
       "      <th>assignee_id</th>\n",
       "      <th>created_at</th>\n",
       "      <th>ticket_id</th>\n",
       "      <th>status</th>\n",
       "      <th>updated_at</th>\n",
       "      <th>assignee</th>\n",
       "      <th>team_lead</th>\n",
       "      <th>manager</th>\n",
       "    </tr>\n",
       "  </thead>\n",
       "  <tbody>\n",
       "    <tr>\n",
       "      <th>0</th>\n",
       "      <td>10054.0</td>\n",
       "      <td>2020-11-06 12:43:49</td>\n",
       "      <td>217081</td>\n",
       "      <td>closed</td>\n",
       "      <td>2020-11-17 2:02:39</td>\n",
       "      <td>Todd Barnes</td>\n",
       "      <td>David Brown</td>\n",
       "      <td>Matthew Reyes</td>\n",
       "    </tr>\n",
       "    <tr>\n",
       "      <th>1</th>\n",
       "      <td>10025.0</td>\n",
       "      <td>2020-11-17 17:31:57</td>\n",
       "      <td>219304</td>\n",
       "      <td>closed</td>\n",
       "      <td>2020-11-30 17:01:46</td>\n",
       "      <td>Penny Ayers</td>\n",
       "      <td>Brittany Logan</td>\n",
       "      <td>Matthew Reyes</td>\n",
       "    </tr>\n",
       "    <tr>\n",
       "      <th>2</th>\n",
       "      <td>10166.0</td>\n",
       "      <td>2020-11-13 15:22:26</td>\n",
       "      <td>218594</td>\n",
       "      <td>closed</td>\n",
       "      <td>2020-11-17 16:01:34</td>\n",
       "      <td>Cheryl Price</td>\n",
       "      <td>Matthew Ayers</td>\n",
       "      <td>Jeremy Robertson</td>\n",
       "    </tr>\n",
       "    <tr>\n",
       "      <th>3</th>\n",
       "      <td>10095.0</td>\n",
       "      <td>2020-11-17 20:24:56</td>\n",
       "      <td>219392</td>\n",
       "      <td>closed</td>\n",
       "      <td>2020-11-19 23:01:27</td>\n",
       "      <td>Carolyn Moore</td>\n",
       "      <td>Miranda Anderson</td>\n",
       "      <td>Matthew Reyes</td>\n",
       "    </tr>\n",
       "    <tr>\n",
       "      <th>4</th>\n",
       "      <td>10095.0</td>\n",
       "      <td>2020-11-05 21:13:33</td>\n",
       "      <td>216976</td>\n",
       "      <td>closed</td>\n",
       "      <td>2020-11-19 23:01:42</td>\n",
       "      <td>Carolyn Moore</td>\n",
       "      <td>Miranda Anderson</td>\n",
       "      <td>Matthew Reyes</td>\n",
       "    </tr>\n",
       "  </tbody>\n",
       "</table>\n",
       "</div>"
      ],
      "text/plain": [
       "   assignee_id           created_at  ticket_id  status           updated_at  \\\n",
       "0      10054.0  2020-11-06 12:43:49     217081  closed   2020-11-17 2:02:39   \n",
       "1      10025.0  2020-11-17 17:31:57     219304  closed  2020-11-30 17:01:46   \n",
       "2      10166.0  2020-11-13 15:22:26     218594  closed  2020-11-17 16:01:34   \n",
       "3      10095.0  2020-11-17 20:24:56     219392  closed  2020-11-19 23:01:27   \n",
       "4      10095.0  2020-11-05 21:13:33     216976  closed  2020-11-19 23:01:42   \n",
       "\n",
       "        assignee         team_lead           manager  \n",
       "0    Todd Barnes       David Brown     Matthew Reyes  \n",
       "1    Penny Ayers    Brittany Logan     Matthew Reyes  \n",
       "2   Cheryl Price     Matthew Ayers  Jeremy Robertson  \n",
       "3  Carolyn Moore  Miranda Anderson     Matthew Reyes  \n",
       "4  Carolyn Moore  Miranda Anderson     Matthew Reyes  "
      ]
     },
     "execution_count": 17,
     "metadata": {},
     "output_type": "execute_result"
    }
   ],
   "source": [
    "# keeping necessary columns\n",
    "\n",
    "df_final = df[['assignee_id', 'created_at', 'ticket_id', 'status', 'updated_at', 'assignee', 'team_lead', 'manager']]\n",
    "df_final.head()"
   ]
  },
  {
   "cell_type": "markdown",
   "metadata": {},
   "source": [
    "Sweet!"
   ]
  },
  {
   "cell_type": "markdown",
   "metadata": {},
   "source": [
    "### Metric Definition"
   ]
  },
  {
   "cell_type": "markdown",
   "metadata": {},
   "source": [
    "**Total Tickets worked in a week:** This is total chats or tickets that went from no or NULL assignee to being assigned to the agent, whether or not the agent currently owns that ticket. \n",
    "\n",
    "\n",
    "**Steps:**\n",
    "    \n",
    "    (1) Find total tickets that were created during the week\n",
    "    (2) Remove those tickets who have not been assigned yet\n",
    "    (3) Find out total tickets worked in a week\n",
    "    (4) Based on admin and agent id, find out total tickets worked by each individual\n",
    "    (5) Based on team-lead id, find out total tickets worked by each team\n",
    "    (6) Based on manager id, find out total tickets worked by all teams of a same manager  "
   ]
  },
  {
   "cell_type": "code",
   "execution_count": 18,
   "metadata": {},
   "outputs": [],
   "source": [
    "def total_tickets_worked_in_a_week(start_date, end_date, data):\n",
    "    \n",
    "    # Date and time format\n",
    "    data.created_at = pd.to_datetime(data.created_at).dt.date.astype(str)\n",
    "    \n",
    "    # Keeping those tickets who were created during this week\n",
    "    data = data[(data.created_at >= start_date) & (data.created_at <= end_date)]\n",
    "    \n",
    "    # Removing those tickets who were not assigned yet\n",
    "    data = data[data.assignee_id.isnull() == False]\n",
    "    \n",
    "    print('----------Total Tickets Worked from ', start_date, ' to ', end_date, '----------')\n",
    "    print('')\n",
    "    print('Total tickets worked: ', data.shape[0])\n",
    "    print('')\n",
    "    print('Total tickets worked by teams under managers:')\n",
    "    \n",
    "    temp_df2 = data.groupby('manager')['ticket_id'].count().reset_index().sort_values('ticket_id', ascending = False).\\\n",
    "         rename(columns = {'ticket_id':'total_ticket_worked'}).reset_index(drop = True)\n",
    "    print(temp_df2)\n",
    "    print('')\n",
    "    print('')\n",
    "    print('Total tickets worked by agents or admins under team leads:')\n",
    "    \n",
    "    temp_df1 = data.groupby('team_lead')['ticket_id'].count().reset_index().sort_values('ticket_id', ascending = False).\\\n",
    "         rename(columns = {'ticket_id':'total_ticket_worked'}).reset_index(drop = True)\n",
    "    \n",
    "    print(temp_df1)\n",
    "    print('')\n",
    "    print('')\n",
    "    print('Total tickets worked by agents or admins:')\n",
    "    \n",
    "    temp_df = data.groupby('assignee')['ticket_id'].count().reset_index().sort_values('ticket_id', ascending = False).\\\n",
    "         rename(columns = {'ticket_id':'total_ticket_worked'}).reset_index(drop = True)\n",
    "    \n",
    "    print(temp_df)\n",
    "    \n",
    "    fig = plt.figure(figsize = (20, 11))\n",
    "    \n",
    "    gs=GridSpec(2,2)\n",
    "\n",
    "    ax1=fig.add_subplot(gs[:,0])\n",
    "    ax2=fig.add_subplot(gs[0,1])\n",
    "    ax3=fig.add_subplot(gs[1,1]) \n",
    "    \n",
    "    sns.countplot(y= data.assignee, hue = data.team_lead, dodge=False, ax = ax1,\\\n",
    "                  order = data.assignee.value_counts().index)\n",
    "    sns.countplot(x = data.team_lead, hue = data.manager, dodge=False, ax = ax2,\\\n",
    "                 order = data.team_lead.value_counts().index)\n",
    "    sns.countplot(x = data.manager, ax = ax3)"
   ]
  },
  {
   "cell_type": "code",
   "execution_count": 19,
   "metadata": {
    "scrolled": false
   },
   "outputs": [
    {
     "name": "stdout",
     "output_type": "stream",
     "text": [
      "----------Total Tickets Worked from  2020-11-16  to  2020-11-20 ----------\n",
      "\n",
      "Total tickets worked:  1465\n",
      "\n",
      "Total tickets worked by teams under managers:\n",
      "            manager  total_ticket_worked\n",
      "0  Jeremy Robertson                  749\n",
      "1     Matthew Reyes                  716\n",
      "\n",
      "\n",
      "Total tickets worked by agents or admins under team leads:\n",
      "          team_lead  total_ticket_worked\n",
      "0          Donna Ho                  398\n",
      "1     Matthew Ayers                  351\n",
      "2    Brittany Logan                  261\n",
      "3  Miranda Anderson                  242\n",
      "4       David Brown                  213\n",
      "\n",
      "\n",
      "Total tickets worked by agents or admins:\n",
      "              assignee  total_ticket_worked\n",
      "0           Kerry Rice                  101\n",
      "1          Todd Barnes                   90\n",
      "2       Sandra Kaufman                   88\n",
      "3          Penny Ayers                   86\n",
      "4       Richard Haynes                   80\n",
      "5         Kathy Galvan                   78\n",
      "6      Eugene Martinez                   74\n",
      "7        Michael Smith                   72\n",
      "8        Isaiah Pruitt                   65\n",
      "9        Alyssa Reeves                   64\n",
      "10       Shawn Johnson                   62\n",
      "11        Cheryl Price                   51\n",
      "12         Yvonne Ruiz                   49\n",
      "13     Stephanie Ramos                   48\n",
      "14       Carolyn Moore                   48\n",
      "15         Karen Ponce                   45\n",
      "16  Destiny Villanueva                   45\n",
      "17       Anthony Green                   41\n",
      "18       Brandon Mills                   40\n",
      "19        Molly Wilson                   38\n",
      "20       Bryce Sweeney                   27\n",
      "21      Alicia Farrell                   23\n",
      "22      Ronald Jenkins                   18\n",
      "23       Jonathan Long                   17\n",
      "24      Kevin Williams                   16\n",
      "25       William Gross                   15\n",
      "26     Kelly Dominguez                   14\n",
      "27       Darlene Young                   11\n",
      "28         Mary Jordan                    9\n",
      "29     Ryan Richardson                    6\n",
      "30        Stanley Beck                    6\n",
      "31     Michelle Walter                    5\n",
      "32     Donald Campbell                    4\n",
      "33          Anna Smith                    4\n",
      "34       Gary Guerrero                    4\n",
      "35      James Williams                    3\n",
      "36        William Cruz                    2\n",
      "37      Casey Andersen                    2\n",
      "38         Lori Deleon                    2\n",
      "39       Kathryn Jones                    2\n",
      "40      Jenna Williams                    2\n",
      "41       James Bonilla                    2\n",
      "42     Gavin Rodriguez                    1\n",
      "43  Shelley Mclaughlin                    1\n",
      "44     Alexandra Chang                    1\n",
      "45        Amber Porter                    1\n",
      "46     Heather Edwards                    1\n",
      "47   Alexander Jackson                    1\n"
     ]
    },
    {
     "data": {
      "image/png": "[encoded data removed]",
      "text/plain": [
       "<Figure size 1440x792 with 3 Axes>"
      ]
     },
     "metadata": {
      "needs_background": "light"
     },
     "output_type": "display_data"
    }
   ],
   "source": [
    "total_tickets_worked_in_a_week(start_date = '2020-11-16', end_date = '2020-11-20', data = df_final)"
   ]
  },
  {
   "cell_type": "code",
   "execution_count": null,
   "metadata": {},
   "outputs": [],
   "source": []
  }
 ],
 "metadata": {
  "kernelspec": {
   "display_name": "Python 3",
   "language": "python",
   "name": "python3"
  },
  "language_info": {
   "codemirror_mode": {
    "name": "ipython",
    "version": 3
   },
   "file_extension": ".py",
   "mimetype": "text/x-python",
   "name": "python",
   "nbconvert_exporter": "python",
   "pygments_lexer": "ipython3",
   "version": "3.7.3"
  }
 },
 "nbformat": 4,
 "nbformat_minor": 2
}
