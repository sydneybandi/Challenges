{
 "cells": [
  {
   "cell_type": "markdown",
   "metadata": {},
   "source": [
    "## Blue Owl Data Science Challenge"
   ]
  },
  {
   "cell_type": "markdown",
   "metadata": {},
   "source": [
    "### Importing data "
   ]
  },
  {
   "cell_type": "code",
   "execution_count": 10,
   "metadata": {},
   "outputs": [],
   "source": [
    "import pandas as pd\n",
    "import numpy as np\n",
    "\n",
    "import seaborn as sns\n",
    "import matplotlib.pyplot as plt"
   ]
  },
  {
   "cell_type": "code",
   "execution_count": 23,
   "metadata": {},
   "outputs": [],
   "source": [
    "df_train = pd.read_csv(\"C:/Users/archd/Downloads/data/train.csv\")\n",
    "df_test = pd.read_csv(\"C:/Users/archd/Downloads/data/test.csv\")"
   ]
  },
  {
   "cell_type": "code",
   "execution_count": 3,
   "metadata": {},
   "outputs": [
    {
     "data": {
      "text/html": [
       "<div>\n",
       "<style scoped>\n",
       "    .dataframe tbody tr th:only-of-type {\n",
       "        vertical-align: middle;\n",
       "    }\n",
       "\n",
       "    .dataframe tbody tr th {\n",
       "        vertical-align: top;\n",
       "    }\n",
       "\n",
       "    .dataframe thead th {\n",
       "        text-align: right;\n",
       "    }\n",
       "</style>\n",
       "<table border=\"1\" class=\"dataframe\">\n",
       "  <thead>\n",
       "    <tr style=\"text-align: right;\">\n",
       "      <th></th>\n",
       "      <th>age</th>\n",
       "      <th>cost_of_ad</th>\n",
       "      <th>device_type</th>\n",
       "      <th>gender</th>\n",
       "      <th>in_initial_launch_location</th>\n",
       "      <th>income</th>\n",
       "      <th>n_drivers</th>\n",
       "      <th>n_vehicles</th>\n",
       "      <th>prior_ins_tenure</th>\n",
       "      <th>outcome</th>\n",
       "    </tr>\n",
       "  </thead>\n",
       "  <tbody>\n",
       "    <tr>\n",
       "      <th>0</th>\n",
       "      <td>56</td>\n",
       "      <td>0.005737</td>\n",
       "      <td>iPhone</td>\n",
       "      <td>M</td>\n",
       "      <td>0</td>\n",
       "      <td>62717</td>\n",
       "      <td>2</td>\n",
       "      <td>1</td>\n",
       "      <td>4</td>\n",
       "      <td>0</td>\n",
       "    </tr>\n",
       "    <tr>\n",
       "      <th>1</th>\n",
       "      <td>50</td>\n",
       "      <td>0.004733</td>\n",
       "      <td>desktop</td>\n",
       "      <td>F</td>\n",
       "      <td>0</td>\n",
       "      <td>64328</td>\n",
       "      <td>2</td>\n",
       "      <td>3</td>\n",
       "      <td>2</td>\n",
       "      <td>0</td>\n",
       "    </tr>\n",
       "    <tr>\n",
       "      <th>2</th>\n",
       "      <td>54</td>\n",
       "      <td>0.004129</td>\n",
       "      <td>laptop</td>\n",
       "      <td>M</td>\n",
       "      <td>0</td>\n",
       "      <td>83439</td>\n",
       "      <td>1</td>\n",
       "      <td>3</td>\n",
       "      <td>7</td>\n",
       "      <td>0</td>\n",
       "    </tr>\n",
       "    <tr>\n",
       "      <th>3</th>\n",
       "      <td>16</td>\n",
       "      <td>0.005117</td>\n",
       "      <td>Android</td>\n",
       "      <td>F</td>\n",
       "      <td>0</td>\n",
       "      <td>30110</td>\n",
       "      <td>2</td>\n",
       "      <td>3</td>\n",
       "      <td>0</td>\n",
       "      <td>0</td>\n",
       "    </tr>\n",
       "    <tr>\n",
       "      <th>4</th>\n",
       "      <td>37</td>\n",
       "      <td>0.003635</td>\n",
       "      <td>desktop</td>\n",
       "      <td>M</td>\n",
       "      <td>0</td>\n",
       "      <td>76565</td>\n",
       "      <td>2</td>\n",
       "      <td>1</td>\n",
       "      <td>5</td>\n",
       "      <td>0</td>\n",
       "    </tr>\n",
       "  </tbody>\n",
       "</table>\n",
       "</div>"
      ],
      "text/plain": [
       "   age  cost_of_ad device_type gender  in_initial_launch_location  income  \\\n",
       "0   56    0.005737      iPhone      M                           0   62717   \n",
       "1   50    0.004733     desktop      F                           0   64328   \n",
       "2   54    0.004129      laptop      M                           0   83439   \n",
       "3   16    0.005117     Android      F                           0   30110   \n",
       "4   37    0.003635     desktop      M                           0   76565   \n",
       "\n",
       "   n_drivers  n_vehicles  prior_ins_tenure  outcome  \n",
       "0          2           1                 4        0  \n",
       "1          2           3                 2        0  \n",
       "2          1           3                 7        0  \n",
       "3          2           3                 0        0  \n",
       "4          2           1                 5        0  "
      ]
     },
     "execution_count": 3,
     "metadata": {},
     "output_type": "execute_result"
    }
   ],
   "source": [
    "df_train.head()"
   ]
  },
  {
   "cell_type": "code",
   "execution_count": 4,
   "metadata": {},
   "outputs": [
    {
     "data": {
      "text/plain": [
       "(10000, 10)"
      ]
     },
     "execution_count": 4,
     "metadata": {},
     "output_type": "execute_result"
    }
   ],
   "source": [
    "df_train.shape"
   ]
  },
  {
   "cell_type": "code",
   "execution_count": 5,
   "metadata": {},
   "outputs": [
    {
     "data": {
      "text/html": [
       "<div>\n",
       "<style scoped>\n",
       "    .dataframe tbody tr th:only-of-type {\n",
       "        vertical-align: middle;\n",
       "    }\n",
       "\n",
       "    .dataframe tbody tr th {\n",
       "        vertical-align: top;\n",
       "    }\n",
       "\n",
       "    .dataframe thead th {\n",
       "        text-align: right;\n",
       "    }\n",
       "</style>\n",
       "<table border=\"1\" class=\"dataframe\">\n",
       "  <thead>\n",
       "    <tr style=\"text-align: right;\">\n",
       "      <th></th>\n",
       "      <th>age</th>\n",
       "      <th>cost_of_ad</th>\n",
       "      <th>device_type</th>\n",
       "      <th>gender</th>\n",
       "      <th>in_initial_launch_location</th>\n",
       "      <th>income</th>\n",
       "      <th>n_drivers</th>\n",
       "      <th>n_vehicles</th>\n",
       "      <th>prior_ins_tenure</th>\n",
       "    </tr>\n",
       "  </thead>\n",
       "  <tbody>\n",
       "    <tr>\n",
       "      <th>0</th>\n",
       "      <td>34</td>\n",
       "      <td>0.005134</td>\n",
       "      <td>Android</td>\n",
       "      <td>F</td>\n",
       "      <td>1</td>\n",
       "      <td>40376</td>\n",
       "      <td>1</td>\n",
       "      <td>3</td>\n",
       "      <td>7</td>\n",
       "    </tr>\n",
       "    <tr>\n",
       "      <th>1</th>\n",
       "      <td>53</td>\n",
       "      <td>0.005223</td>\n",
       "      <td>desktop</td>\n",
       "      <td>F</td>\n",
       "      <td>1</td>\n",
       "      <td>84511</td>\n",
       "      <td>1</td>\n",
       "      <td>1</td>\n",
       "      <td>11</td>\n",
       "    </tr>\n",
       "    <tr>\n",
       "      <th>2</th>\n",
       "      <td>46</td>\n",
       "      <td>0.004939</td>\n",
       "      <td>laptop</td>\n",
       "      <td>F</td>\n",
       "      <td>0</td>\n",
       "      <td>79322</td>\n",
       "      <td>1</td>\n",
       "      <td>1</td>\n",
       "      <td>4</td>\n",
       "    </tr>\n",
       "    <tr>\n",
       "      <th>3</th>\n",
       "      <td>36</td>\n",
       "      <td>0.004924</td>\n",
       "      <td>Android</td>\n",
       "      <td>F</td>\n",
       "      <td>0</td>\n",
       "      <td>63295</td>\n",
       "      <td>1</td>\n",
       "      <td>2</td>\n",
       "      <td>0</td>\n",
       "    </tr>\n",
       "    <tr>\n",
       "      <th>4</th>\n",
       "      <td>28</td>\n",
       "      <td>0.005146</td>\n",
       "      <td>other</td>\n",
       "      <td>F</td>\n",
       "      <td>1</td>\n",
       "      <td>36170</td>\n",
       "      <td>1</td>\n",
       "      <td>3</td>\n",
       "      <td>3</td>\n",
       "    </tr>\n",
       "  </tbody>\n",
       "</table>\n",
       "</div>"
      ],
      "text/plain": [
       "   age  cost_of_ad device_type gender  in_initial_launch_location  income  \\\n",
       "0   34    0.005134     Android      F                           1   40376   \n",
       "1   53    0.005223     desktop      F                           1   84511   \n",
       "2   46    0.004939      laptop      F                           0   79322   \n",
       "3   36    0.004924     Android      F                           0   63295   \n",
       "4   28    0.005146       other      F                           1   36170   \n",
       "\n",
       "   n_drivers  n_vehicles  prior_ins_tenure  \n",
       "0          1           3                 7  \n",
       "1          1           1                11  \n",
       "2          1           1                 4  \n",
       "3          1           2                 0  \n",
       "4          1           3                 3  "
      ]
     },
     "execution_count": 5,
     "metadata": {},
     "output_type": "execute_result"
    }
   ],
   "source": [
    "df_test.head()"
   ]
  },
  {
   "cell_type": "code",
   "execution_count": 6,
   "metadata": {},
   "outputs": [
    {
     "data": {
      "text/plain": [
       "(10000, 9)"
      ]
     },
     "execution_count": 6,
     "metadata": {},
     "output_type": "execute_result"
    }
   ],
   "source": [
    "df_test.shape"
   ]
  },
  {
   "cell_type": "markdown",
   "metadata": {},
   "source": [
    "### Analysis"
   ]
  },
  {
   "cell_type": "code",
   "execution_count": 18,
   "metadata": {},
   "outputs": [
    {
     "data": {
      "text/plain": [
       "True"
      ]
     },
     "execution_count": 18,
     "metadata": {},
     "output_type": "execute_result"
    }
   ],
   "source": [
    "df_test.isnull().any().any()"
   ]
  },
  {
   "cell_type": "code",
   "execution_count": 19,
   "metadata": {},
   "outputs": [
    {
     "data": {
      "text/plain": [
       "age                             0\n",
       "cost_of_ad                      0\n",
       "device_type                     0\n",
       "gender                        249\n",
       "in_initial_launch_location      0\n",
       "income                          0\n",
       "n_drivers                       0\n",
       "n_vehicles                      0\n",
       "prior_ins_tenure                0\n",
       "dtype: int64"
      ]
     },
     "execution_count": 19,
     "metadata": {},
     "output_type": "execute_result"
    }
   ],
   "source": [
    "df_test.isnull().sum()"
   ]
  },
  {
   "cell_type": "code",
   "execution_count": 7,
   "metadata": {},
   "outputs": [
    {
     "data": {
      "text/plain": [
       "True"
      ]
     },
     "execution_count": 7,
     "metadata": {},
     "output_type": "execute_result"
    }
   ],
   "source": [
    "df_train.isnull().any().any()"
   ]
  },
  {
   "cell_type": "code",
   "execution_count": 8,
   "metadata": {},
   "outputs": [
    {
     "data": {
      "text/plain": [
       "age                             0\n",
       "cost_of_ad                      0\n",
       "device_type                     0\n",
       "gender                        269\n",
       "in_initial_launch_location      0\n",
       "income                          0\n",
       "n_drivers                       0\n",
       "n_vehicles                      0\n",
       "prior_ins_tenure                0\n",
       "outcome                         0\n",
       "dtype: int64"
      ]
     },
     "execution_count": 8,
     "metadata": {},
     "output_type": "execute_result"
    }
   ],
   "source": [
    "df_train.isnull().sum()"
   ]
  },
  {
   "cell_type": "code",
   "execution_count": 9,
   "metadata": {},
   "outputs": [
    {
     "data": {
      "text/plain": [
       "0    9018\n",
       "1     982\n",
       "Name: outcome, dtype: int64"
      ]
     },
     "execution_count": 9,
     "metadata": {},
     "output_type": "execute_result"
    }
   ],
   "source": [
    "df_train.outcome.value_counts()"
   ]
  },
  {
   "cell_type": "code",
   "execution_count": 16,
   "metadata": {},
   "outputs": [
    {
     "data": {
      "text/plain": [
       "F    4970\n",
       "M    4761\n",
       "Name: gender, dtype: int64"
      ]
     },
     "execution_count": 16,
     "metadata": {},
     "output_type": "execute_result"
    }
   ],
   "source": [
    "df_train.gender.value_counts()"
   ]
  },
  {
   "cell_type": "code",
   "execution_count": 17,
   "metadata": {},
   "outputs": [
    {
     "data": {
      "text/plain": [
       "F    4906\n",
       "M    4845\n",
       "Name: gender, dtype: int64"
      ]
     },
     "execution_count": 17,
     "metadata": {},
     "output_type": "execute_result"
    }
   ],
   "source": [
    "df_test.gender.value_counts()"
   ]
  },
  {
   "cell_type": "code",
   "execution_count": 13,
   "metadata": {},
   "outputs": [
    {
     "data": {
      "text/plain": [
       "<matplotlib.axes._subplots.AxesSubplot at 0x1d67eeb9cc0>"
      ]
     },
     "execution_count": 13,
     "metadata": {},
     "output_type": "execute_result"
    },
    {
     "data": {
      "image/png": "[encoded data removed]",
      "text/plain": [
       "<Figure size 432x288 with 1 Axes>"
      ]
     },
     "metadata": {
      "needs_background": "light"
     },
     "output_type": "display_data"
    }
   ],
   "source": [
    "sns.countplot(x = df_train.gender, hue = df_train.outcome)"
   ]
  },
  {
   "cell_type": "code",
   "execution_count": 15,
   "metadata": {},
   "outputs": [
    {
     "data": {
      "text/plain": [
       "<matplotlib.axes._subplots.AxesSubplot at 0x1d67fc8bf28>"
      ]
     },
     "execution_count": 15,
     "metadata": {},
     "output_type": "execute_result"
    },
    {
     "data": {
      "image/png": "[encoded data removed]",
      "text/plain": [
       "<Figure size 432x288 with 1 Axes>"
      ]
     },
     "metadata": {
      "needs_background": "light"
     },
     "output_type": "display_data"
    }
   ],
   "source": [
    "sns.countplot(x = df_train.outcome[df_train.gender.isnull()])"
   ]
  },
  {
   "cell_type": "code",
   "execution_count": 24,
   "metadata": {},
   "outputs": [],
   "source": [
    "df_train.gender.fillna('U', inplace = True)\n",
    "df_test.gender.fillna('U', inplace = True)"
   ]
  },
  {
   "cell_type": "code",
   "execution_count": 28,
   "metadata": {},
   "outputs": [
    {
     "data": {
      "text/plain": [
       "<matplotlib.axes._subplots.AxesSubplot at 0x1d6003bff98>"
      ]
     },
     "execution_count": 28,
     "metadata": {},
     "output_type": "execute_result"
    },
    {
     "data": {
      "image/png": "[encoded data removed]",
      "text/plain": [
       "<Figure size 432x288 with 1 Axes>"
      ]
     },
     "metadata": {
      "needs_background": "light"
     },
     "output_type": "display_data"
    }
   ],
   "source": [
    "sns.distplot(df_train[df_train.outcome == 0].cost_of_ad, label = \"Outcome 0\")\n",
    "sns.distplot(df_train[df_train.outcome == 1].cost_of_ad, label = \"Outcome 1\")"
   ]
  },
  {
   "cell_type": "code",
   "execution_count": 31,
   "metadata": {},
   "outputs": [
    {
     "data": {
      "text/plain": [
       "<matplotlib.axes._subplots.AxesSubplot at 0x1d60190a3c8>"
      ]
     },
     "execution_count": 31,
     "metadata": {},
     "output_type": "execute_result"
    },
    {
     "data": {
      "image/png": "[encoded data removed]",
      "text/plain": [
       "<Figure size 432x288 with 1 Axes>"
      ]
     },
     "metadata": {
      "needs_background": "light"
     },
     "output_type": "display_data"
    }
   ],
   "source": [
    "sns.distplot(df_train[df_train.outcome == 0].income, label = \"Outcome 0\")\n",
    "sns.distplot(df_train[df_train.outcome == 1].income, label = \"Outcome 1\")"
   ]
  },
  {
   "cell_type": "code",
   "execution_count": 33,
   "metadata": {},
   "outputs": [
    {
     "data": {
      "text/plain": [
       "<matplotlib.axes._subplots.AxesSubplot at 0x1d6011cf128>"
      ]
     },
     "execution_count": 33,
     "metadata": {},
     "output_type": "execute_result"
    },
    {
     "data": {
      "image/png": "[encoded data removed]",
      "text/plain": [
       "<Figure size 432x288 with 1 Axes>"
      ]
     },
     "metadata": {
      "needs_background": "light"
     },
     "output_type": "display_data"
    }
   ],
   "source": [
    "sns.distplot(df_train[df_train.outcome == 0].age, label = \"Outcome 0\")\n",
    "sns.distplot(df_train[df_train.outcome == 1].age, label = \"Outcome 1\")"
   ]
  },
  {
   "cell_type": "code",
   "execution_count": 32,
   "metadata": {},
   "outputs": [
    {
     "data": {
      "text/plain": [
       "Index(['age', 'cost_of_ad', 'device_type', 'gender',\n",
       "       'in_initial_launch_location', 'income', 'n_drivers', 'n_vehicles',\n",
       "       'prior_ins_tenure', 'outcome'],\n",
       "      dtype='object')"
      ]
     },
     "execution_count": 32,
     "metadata": {},
     "output_type": "execute_result"
    }
   ],
   "source": [
    "df_train.columns"
   ]
  },
  {
   "cell_type": "code",
   "execution_count": 34,
   "metadata": {},
   "outputs": [
    {
     "data": {
      "text/plain": [
       "<matplotlib.axes._subplots.AxesSubplot at 0x1d600fb8a90>"
      ]
     },
     "execution_count": 34,
     "metadata": {},
     "output_type": "execute_result"
    },
    {
     "data": {
      "image/png": "[encoded data removed]",
      "text/plain": [
       "<Figure size 432x288 with 1 Axes>"
      ]
     },
     "metadata": {
      "needs_background": "light"
     },
     "output_type": "display_data"
    }
   ],
   "source": [
    "sns.countplot(x = df_train.device_type, hue = df_train.outcome)"
   ]
  },
  {
   "cell_type": "code",
   "execution_count": 35,
   "metadata": {},
   "outputs": [
    {
     "data": {
      "text/plain": [
       "<matplotlib.axes._subplots.AxesSubplot at 0x1d60117c048>"
      ]
     },
     "execution_count": 35,
     "metadata": {},
     "output_type": "execute_result"
    },
    {
     "data": {
      "image/png": "[encoded data removed]",
      "text/plain": [
       "<Figure size 432x288 with 1 Axes>"
      ]
     },
     "metadata": {
      "needs_background": "light"
     },
     "output_type": "display_data"
    }
   ],
   "source": [
    "sns.countplot(x = df_train.in_initial_launch_location, hue = df_train.outcome)"
   ]
  },
  {
   "cell_type": "code",
   "execution_count": 36,
   "metadata": {},
   "outputs": [
    {
     "data": {
      "text/plain": [
       "<matplotlib.axes._subplots.AxesSubplot at 0x1d6017f7ba8>"
      ]
     },
     "execution_count": 36,
     "metadata": {},
     "output_type": "execute_result"
    },
    {
     "data": {
      "image/png": "[encoded data removed]",
      "text/plain": [
       "<Figure size 432x288 with 1 Axes>"
      ]
     },
     "metadata": {
      "needs_background": "light"
     },
     "output_type": "display_data"
    }
   ],
   "source": [
    "sns.countplot(x = df_train.n_drivers, hue = df_train.outcome)"
   ]
  },
  {
   "cell_type": "code",
   "execution_count": 37,
   "metadata": {},
   "outputs": [
    {
     "data": {
      "text/plain": [
       "<matplotlib.axes._subplots.AxesSubplot at 0x1d6016d3160>"
      ]
     },
     "execution_count": 37,
     "metadata": {},
     "output_type": "execute_result"
    },
    {
     "data": {
      "image/png": "[encoded data removed]",
      "text/plain": [
       "<Figure size 432x288 with 1 Axes>"
      ]
     },
     "metadata": {
      "needs_background": "light"
     },
     "output_type": "display_data"
    }
   ],
   "source": [
    "sns.countplot(x = df_train.n_vehicles, hue = df_train.outcome)"
   ]
  },
  {
   "cell_type": "code",
   "execution_count": 38,
   "metadata": {},
   "outputs": [
    {
     "data": {
      "text/plain": [
       "<matplotlib.axes._subplots.AxesSubplot at 0x1d6013c3908>"
      ]
     },
     "execution_count": 38,
     "metadata": {},
     "output_type": "execute_result"
    },
    {
     "data": {
      "image/png": "[encoded data removed]",
      "text/plain": [
       "<Figure size 432x288 with 1 Axes>"
      ]
     },
     "metadata": {
      "needs_background": "light"
     },
     "output_type": "display_data"
    }
   ],
   "source": [
    "sns.countplot(x = df_train.prior_ins_tenure, hue = df_train.outcome)"
   ]
  },
  {
   "cell_type": "markdown",
   "metadata": {},
   "source": [
    "## Modelling"
   ]
  },
  {
   "cell_type": "code",
   "execution_count": 39,
   "metadata": {},
   "outputs": [
    {
     "data": {
      "text/html": [
       "<div>\n",
       "<style scoped>\n",
       "    .dataframe tbody tr th:only-of-type {\n",
       "        vertical-align: middle;\n",
       "    }\n",
       "\n",
       "    .dataframe tbody tr th {\n",
       "        vertical-align: top;\n",
       "    }\n",
       "\n",
       "    .dataframe thead th {\n",
       "        text-align: right;\n",
       "    }\n",
       "</style>\n",
       "<table border=\"1\" class=\"dataframe\">\n",
       "  <thead>\n",
       "    <tr style=\"text-align: right;\">\n",
       "      <th></th>\n",
       "      <th>age</th>\n",
       "      <th>cost_of_ad</th>\n",
       "      <th>in_initial_launch_location</th>\n",
       "      <th>income</th>\n",
       "      <th>n_drivers</th>\n",
       "      <th>n_vehicles</th>\n",
       "      <th>prior_ins_tenure</th>\n",
       "      <th>outcome</th>\n",
       "      <th>device_type_desktop</th>\n",
       "      <th>device_type_iPhone</th>\n",
       "      <th>device_type_laptop</th>\n",
       "      <th>device_type_other</th>\n",
       "      <th>gender_M</th>\n",
       "      <th>gender_U</th>\n",
       "    </tr>\n",
       "  </thead>\n",
       "  <tbody>\n",
       "    <tr>\n",
       "      <th>0</th>\n",
       "      <td>56</td>\n",
       "      <td>0.005737</td>\n",
       "      <td>0</td>\n",
       "      <td>62717</td>\n",
       "      <td>2</td>\n",
       "      <td>1</td>\n",
       "      <td>4</td>\n",
       "      <td>0</td>\n",
       "      <td>0</td>\n",
       "      <td>1</td>\n",
       "      <td>0</td>\n",
       "      <td>0</td>\n",
       "      <td>1</td>\n",
       "      <td>0</td>\n",
       "    </tr>\n",
       "    <tr>\n",
       "      <th>1</th>\n",
       "      <td>50</td>\n",
       "      <td>0.004733</td>\n",
       "      <td>0</td>\n",
       "      <td>64328</td>\n",
       "      <td>2</td>\n",
       "      <td>3</td>\n",
       "      <td>2</td>\n",
       "      <td>0</td>\n",
       "      <td>1</td>\n",
       "      <td>0</td>\n",
       "      <td>0</td>\n",
       "      <td>0</td>\n",
       "      <td>0</td>\n",
       "      <td>0</td>\n",
       "    </tr>\n",
       "    <tr>\n",
       "      <th>2</th>\n",
       "      <td>54</td>\n",
       "      <td>0.004129</td>\n",
       "      <td>0</td>\n",
       "      <td>83439</td>\n",
       "      <td>1</td>\n",
       "      <td>3</td>\n",
       "      <td>7</td>\n",
       "      <td>0</td>\n",
       "      <td>0</td>\n",
       "      <td>0</td>\n",
       "      <td>1</td>\n",
       "      <td>0</td>\n",
       "      <td>1</td>\n",
       "      <td>0</td>\n",
       "    </tr>\n",
       "    <tr>\n",
       "      <th>3</th>\n",
       "      <td>16</td>\n",
       "      <td>0.005117</td>\n",
       "      <td>0</td>\n",
       "      <td>30110</td>\n",
       "      <td>2</td>\n",
       "      <td>3</td>\n",
       "      <td>0</td>\n",
       "      <td>0</td>\n",
       "      <td>0</td>\n",
       "      <td>0</td>\n",
       "      <td>0</td>\n",
       "      <td>0</td>\n",
       "      <td>0</td>\n",
       "      <td>0</td>\n",
       "    </tr>\n",
       "    <tr>\n",
       "      <th>4</th>\n",
       "      <td>37</td>\n",
       "      <td>0.003635</td>\n",
       "      <td>0</td>\n",
       "      <td>76565</td>\n",
       "      <td>2</td>\n",
       "      <td>1</td>\n",
       "      <td>5</td>\n",
       "      <td>0</td>\n",
       "      <td>1</td>\n",
       "      <td>0</td>\n",
       "      <td>0</td>\n",
       "      <td>0</td>\n",
       "      <td>1</td>\n",
       "      <td>0</td>\n",
       "    </tr>\n",
       "  </tbody>\n",
       "</table>\n",
       "</div>"
      ],
      "text/plain": [
       "   age  cost_of_ad  in_initial_launch_location  income  n_drivers  n_vehicles  \\\n",
       "0   56    0.005737                           0   62717          2           1   \n",
       "1   50    0.004733                           0   64328          2           3   \n",
       "2   54    0.004129                           0   83439          1           3   \n",
       "3   16    0.005117                           0   30110          2           3   \n",
       "4   37    0.003635                           0   76565          2           1   \n",
       "\n",
       "   prior_ins_tenure  outcome  device_type_desktop  device_type_iPhone  \\\n",
       "0                 4        0                    0                   1   \n",
       "1                 2        0                    1                   0   \n",
       "2                 7        0                    0                   0   \n",
       "3                 0        0                    0                   0   \n",
       "4                 5        0                    1                   0   \n",
       "\n",
       "   device_type_laptop  device_type_other  gender_M  gender_U  \n",
       "0                   0                  0         1         0  \n",
       "1                   0                  0         0         0  \n",
       "2                   1                  0         1         0  \n",
       "3                   0                  0         0         0  \n",
       "4                   0                  0         1         0  "
      ]
     },
     "execution_count": 39,
     "metadata": {},
     "output_type": "execute_result"
    }
   ],
   "source": [
    "df_t = pd.get_dummies(df_train, columns=['device_type', 'gender'], drop_first=True)\n",
    "df_t.head()"
   ]
  },
  {
   "cell_type": "code",
   "execution_count": 40,
   "metadata": {},
   "outputs": [],
   "source": [
    "X = df_t.drop('outcome', axis = 1)\n",
    "y = df_t.outcome"
   ]
  },
  {
   "cell_type": "code",
   "execution_count": 41,
   "metadata": {},
   "outputs": [
    {
     "data": {
      "text/plain": [
       "0    9018\n",
       "1     982\n",
       "Name: outcome, dtype: int64"
      ]
     },
     "execution_count": 41,
     "metadata": {},
     "output_type": "execute_result"
    }
   ],
   "source": [
    "y.value_counts()"
   ]
  },
  {
   "cell_type": "code",
   "execution_count": 121,
   "metadata": {},
   "outputs": [],
   "source": [
    "from sklearn.preprocessing import StandardScaler\n",
    "from sklearn.linear_model import LogisticRegression\n",
    "from sklearn.tree import DecisionTreeClassifier\n",
    "from sklearn.ensemble import RandomForestClassifier\n",
    "import xgboost as xgb\n",
    "from sklearn.model_selection import train_test_split, GridSearchCV, StratifiedKFold\n",
    "from sklearn.metrics import classification_report, confusion_matrix, roc_auc_score, f1_score, accuracy_score\n",
    "from sklearn.svm import SVC\n",
    "import scikitplot as skplt"
   ]
  },
  {
   "cell_type": "code",
   "execution_count": 48,
   "metadata": {},
   "outputs": [],
   "source": [
    "X_train, X_val, y_train, y_val = train_test_split(X, y, stratify = y, random_state = 0, test_size = 0.2)"
   ]
  },
  {
   "cell_type": "code",
   "execution_count": 63,
   "metadata": {},
   "outputs": [],
   "source": [
    "logistic = LogisticRegression(class_weight=\"balanced\")\n",
    "tree = DecisionTreeClassifier(class_weight=\"balanced\")\n",
    "xgb_model = xgb.XGBClassifier(scale_pos_weight= 10)\n",
    "svm = SVC(class_weight=\"balanced\")\n",
    "rf = RandomForestClassifier(class_weight = \"balanced\")"
   ]
  },
  {
   "cell_type": "code",
   "execution_count": 54,
   "metadata": {},
   "outputs": [
    {
     "name": "stdout",
     "output_type": "stream",
     "text": [
      "[[   0 1804]\n",
      " [   0  196]]\n",
      "0.5\n"
     ]
    }
   ],
   "source": [
    "logistic.fit(X_train, y_train)\n",
    "\n",
    "print(confusion_matrix(y_val, logistic.predict(X_val)))\n",
    "print(roc_auc_score(y_val, logistic.predict(X_val)))"
   ]
  },
  {
   "cell_type": "code",
   "execution_count": 59,
   "metadata": {},
   "outputs": [
    {
     "name": "stdout",
     "output_type": "stream",
     "text": [
      "[[1677  127]\n",
      " [ 129   67]]\n",
      "0.6357188108059189\n"
     ]
    }
   ],
   "source": [
    "tree.fit(X_train, y_train)\n",
    "\n",
    "print(confusion_matrix(y_val, tree.predict(X_val)))\n",
    "print(roc_auc_score(y_val, tree.predict(X_val)))"
   ]
  },
  {
   "cell_type": "code",
   "execution_count": 60,
   "metadata": {},
   "outputs": [
    {
     "name": "stdout",
     "output_type": "stream",
     "text": [
      "[[1346  458]\n",
      " [  46  150]]\n",
      "0.7557129281867958\n"
     ]
    }
   ],
   "source": [
    "xgb_model.fit(X_train, y_train)\n",
    "\n",
    "print(confusion_matrix(y_val, xgb_model.predict(X_val)))\n",
    "print(roc_auc_score(y_val, xgb_model.predict(X_val)))"
   ]
  },
  {
   "cell_type": "code",
   "execution_count": 61,
   "metadata": {},
   "outputs": [
    {
     "name": "stdout",
     "output_type": "stream",
     "text": [
      "[[1419  385]\n",
      " [ 140   56]]\n",
      "0.5361498257839721\n"
     ]
    }
   ],
   "source": [
    "svm.fit(X_train, y_train)\n",
    "\n",
    "print(confusion_matrix(y_val, svm.predict(X_val)))\n",
    "print(roc_auc_score(y_val, svm.predict(X_val)))"
   ]
  },
  {
   "cell_type": "code",
   "execution_count": 64,
   "metadata": {},
   "outputs": [
    {
     "name": "stdout",
     "output_type": "stream",
     "text": [
      "[[1784   20]\n",
      " [ 152   44]]\n",
      "0.6067016607086293\n"
     ]
    }
   ],
   "source": [
    "rf.fit(X_train, y_train)\n",
    "\n",
    "print(confusion_matrix(y_val, rf.predict(X_val)))\n",
    "print(roc_auc_score(y_val, rf.predict(X_val)))"
   ]
  },
  {
   "cell_type": "markdown",
   "metadata": {},
   "source": [
    "### Tuning XGBoost"
   ]
  },
  {
   "cell_type": "markdown",
   "metadata": {},
   "source": [
    "#### Model 1"
   ]
  },
  {
   "cell_type": "code",
   "execution_count": 90,
   "metadata": {},
   "outputs": [
    {
     "data": {
      "text/plain": [
       "({'scale_pos_weight': 6}, 0.8480237565916358)"
      ]
     },
     "execution_count": 90,
     "metadata": {},
     "output_type": "execute_result"
    }
   ],
   "source": [
    "params = {\n",
    "    'scale_pos_weight':[6, 8, 10, 12, 14]\n",
    "}\n",
    "\n",
    "g = GridSearchCV(estimator = xgb.XGBClassifier(objective= 'binary:logistic'), param_grid = params, scoring='roc_auc', cv=5)\n",
    "\n",
    "g.fit(X,y)\n",
    "g.best_params_, g.best_score_"
   ]
  },
  {
   "cell_type": "code",
   "execution_count": 91,
   "metadata": {},
   "outputs": [
    {
     "data": {
      "text/plain": [
       "([{'scale_pos_weight': 6},\n",
       "  {'scale_pos_weight': 8},\n",
       "  {'scale_pos_weight': 10},\n",
       "  {'scale_pos_weight': 12},\n",
       "  {'scale_pos_weight': 14}],\n",
       " array([0.84802376, 0.84689807, 0.84676047, 0.84621237, 0.84567586]),\n",
       " array([1, 2, 3, 4, 5]))"
      ]
     },
     "execution_count": 91,
     "metadata": {},
     "output_type": "execute_result"
    }
   ],
   "source": [
    "g.cv_results_['params'], g.cv_results_['mean_test_score'], g.cv_results_['rank_test_score']"
   ]
  },
  {
   "cell_type": "code",
   "execution_count": 92,
   "metadata": {},
   "outputs": [
    {
     "data": {
      "text/plain": [
       "XGBClassifier(base_score=0.5, booster='gbtree', colsample_bylevel=1,\n",
       "              colsample_bynode=1, colsample_bytree=1, gamma=0,\n",
       "              learning_rate=0.1, max_delta_step=0, max_depth=3,\n",
       "              min_child_weight=1, missing=None, n_estimators=100, n_jobs=1,\n",
       "              nthread=None, objective='binary:logistic', random_state=0,\n",
       "              reg_alpha=0, reg_lambda=1, scale_pos_weight=6, seed=None,\n",
       "              silent=None, subsample=1, verbosity=1)"
      ]
     },
     "execution_count": 92,
     "metadata": {},
     "output_type": "execute_result"
    }
   ],
   "source": [
    "g.best_estimator_"
   ]
  },
  {
   "cell_type": "markdown",
   "metadata": {},
   "source": [
    "#### Model 2"
   ]
  },
  {
   "cell_type": "code",
   "execution_count": 88,
   "metadata": {},
   "outputs": [
    {
     "data": {
      "text/plain": [
       "({'max_depth': 3, 'min_child_weight': 5}, 0.8498649843177098)"
      ]
     },
     "execution_count": 88,
     "metadata": {},
     "output_type": "execute_result"
    }
   ],
   "source": [
    "params = {\n",
    "    'max_depth':range(3,10,2),\n",
    "    'min_child_weight':range(1,6,2)\n",
    "}\n",
    "\n",
    "g = GridSearchCV(estimator = xgb.XGBClassifier(objective= 'binary:logistic'), param_grid = params, scoring='roc_auc', cv=5)\n",
    "\n",
    "g.fit(X,y)\n",
    "g.best_params_, g.best_score_"
   ]
  },
  {
   "cell_type": "code",
   "execution_count": 87,
   "metadata": {},
   "outputs": [
    {
     "data": {
      "text/plain": [
       "([{'max_depth': 3, 'min_child_weight': 1},\n",
       "  {'max_depth': 3, 'min_child_weight': 3},\n",
       "  {'max_depth': 3, 'min_child_weight': 5},\n",
       "  {'max_depth': 5, 'min_child_weight': 1},\n",
       "  {'max_depth': 5, 'min_child_weight': 3},\n",
       "  {'max_depth': 5, 'min_child_weight': 5},\n",
       "  {'max_depth': 7, 'min_child_weight': 1},\n",
       "  {'max_depth': 7, 'min_child_weight': 3},\n",
       "  {'max_depth': 7, 'min_child_weight': 5},\n",
       "  {'max_depth': 9, 'min_child_weight': 1},\n",
       "  {'max_depth': 9, 'min_child_weight': 3},\n",
       "  {'max_depth': 9, 'min_child_weight': 5}],\n",
       " array([0.84877776, 0.84978011, 0.84986498, 0.84449534, 0.84467291,\n",
       "        0.8447001 , 0.83441795, 0.83597516, 0.84028005, 0.82741615,\n",
       "        0.83377129, 0.83552059]),\n",
       " array([ 3,  2,  1,  6,  5,  4, 10,  8,  7, 12, 11,  9]))"
      ]
     },
     "execution_count": 87,
     "metadata": {},
     "output_type": "execute_result"
    }
   ],
   "source": [
    "g.cv_results_['params'], g.cv_results_['mean_test_score'], g.cv_results_['rank_test_score']"
   ]
  },
  {
   "cell_type": "code",
   "execution_count": 93,
   "metadata": {},
   "outputs": [
    {
     "data": {
      "text/plain": [
       "({'max_depth': 3, 'min_child_weight': 5}, 0.8498649843177098)"
      ]
     },
     "execution_count": 93,
     "metadata": {},
     "output_type": "execute_result"
    }
   ],
   "source": [
    "params = {\n",
    "    'max_depth':[3,4],\n",
    "    'min_child_weight':[2,3,4,5,6]\n",
    "}\n",
    "\n",
    "g = GridSearchCV(estimator = xgb.XGBClassifier(objective= 'binary:logistic'), param_grid = params, scoring='roc_auc', cv=5)\n",
    "\n",
    "g.fit(X,y)\n",
    "g.best_params_, g.best_score_"
   ]
  },
  {
   "cell_type": "code",
   "execution_count": 95,
   "metadata": {},
   "outputs": [
    {
     "data": {
      "text/plain": [
       "({'scale_pos_weight': 4}, 0.8485617203295931)"
      ]
     },
     "execution_count": 95,
     "metadata": {},
     "output_type": "execute_result"
    }
   ],
   "source": [
    "params = {\n",
    "    'scale_pos_weight':[4, 6, 8, 10, 12, 14]\n",
    "}\n",
    "\n",
    "g = GridSearchCV(estimator = xgb.XGBClassifier(objective= 'binary:logistic', max_depth= 3, min_child_weight= 5), param_grid = params, scoring='roc_auc', cv=5)\n",
    "\n",
    "g.fit(X,y)\n",
    "g.best_params_, g.best_score_"
   ]
  },
  {
   "cell_type": "code",
   "execution_count": 96,
   "metadata": {},
   "outputs": [
    {
     "data": {
      "text/plain": [
       "array([[1635,  169],\n",
       "       [  78,  118]], dtype=int64)"
      ]
     },
     "execution_count": 96,
     "metadata": {},
     "output_type": "execute_result"
    }
   ],
   "source": [
    "model = g.best_estimator_\n",
    "\n",
    "model.fit(X_train, y_train)\n",
    "\n",
    "confusion_matrix(y_val, model.predict(X_val))"
   ]
  },
  {
   "cell_type": "code",
   "execution_count": 97,
   "metadata": {},
   "outputs": [
    {
     "data": {
      "text/plain": [
       "0.7541800533960813"
      ]
     },
     "execution_count": 97,
     "metadata": {},
     "output_type": "execute_result"
    }
   ],
   "source": [
    "roc_auc_score(y_val, model.predict(X_val))"
   ]
  },
  {
   "cell_type": "code",
   "execution_count": 98,
   "metadata": {},
   "outputs": [
    {
     "data": {
      "text/plain": [
       "0.7609160093710915"
      ]
     },
     "execution_count": 98,
     "metadata": {},
     "output_type": "execute_result"
    }
   ],
   "source": [
    "roc_auc_score(y_train, model.predict(X_train))"
   ]
  },
  {
   "cell_type": "markdown",
   "metadata": {},
   "source": [
    "#### Model 3"
   ]
  },
  {
   "cell_type": "code",
   "execution_count": 101,
   "metadata": {},
   "outputs": [
    {
     "data": {
      "text/plain": [
       "({'n_estimators': 100, 'scale_pos_weight': 4}, 0.8485617203295931)"
      ]
     },
     "execution_count": 101,
     "metadata": {},
     "output_type": "execute_result"
    }
   ],
   "source": [
    "params = {\n",
    "    'n_estimators':[100, 200, 300, 400, 500],\n",
    "    'scale_pos_weight':[4, 6, 8, 10]\n",
    "}\n",
    "\n",
    "g = GridSearchCV(estimator = xgb.XGBClassifier(objective= 'binary:logistic', max_depth = 3, min_child_weight = 5)\n",
    "                 , param_grid = params, scoring='roc_auc', cv=5)\n",
    "\n",
    "g.fit(X,y)\n",
    "g.best_params_, g.best_score_"
   ]
  },
  {
   "cell_type": "code",
   "execution_count": 102,
   "metadata": {},
   "outputs": [
    {
     "data": {
      "text/plain": [
       "([{'n_estimators': 100, 'scale_pos_weight': 4},\n",
       "  {'n_estimators': 100, 'scale_pos_weight': 6},\n",
       "  {'n_estimators': 100, 'scale_pos_weight': 8},\n",
       "  {'n_estimators': 100, 'scale_pos_weight': 10},\n",
       "  {'n_estimators': 200, 'scale_pos_weight': 4},\n",
       "  {'n_estimators': 200, 'scale_pos_weight': 6},\n",
       "  {'n_estimators': 200, 'scale_pos_weight': 8},\n",
       "  {'n_estimators': 200, 'scale_pos_weight': 10},\n",
       "  {'n_estimators': 300, 'scale_pos_weight': 4},\n",
       "  {'n_estimators': 300, 'scale_pos_weight': 6},\n",
       "  {'n_estimators': 300, 'scale_pos_weight': 8},\n",
       "  {'n_estimators': 300, 'scale_pos_weight': 10},\n",
       "  {'n_estimators': 400, 'scale_pos_weight': 4},\n",
       "  {'n_estimators': 400, 'scale_pos_weight': 6},\n",
       "  {'n_estimators': 400, 'scale_pos_weight': 8},\n",
       "  {'n_estimators': 400, 'scale_pos_weight': 10},\n",
       "  {'n_estimators': 500, 'scale_pos_weight': 4},\n",
       "  {'n_estimators': 500, 'scale_pos_weight': 6},\n",
       "  {'n_estimators': 500, 'scale_pos_weight': 8},\n",
       "  {'n_estimators': 500, 'scale_pos_weight': 10}],\n",
       " array([0.84856172, 0.84824594, 0.84710104, 0.84624993, 0.8444971 ,\n",
       "        0.84460324, 0.8418368 , 0.84170069, 0.84114738, 0.84057555,\n",
       "        0.83756406, 0.83648276, 0.83636584, 0.83508136, 0.83280941,\n",
       "        0.83241045, 0.83418607, 0.83148019, 0.82990546, 0.8285227 ]),\n",
       " array([ 1,  2,  3,  4,  6,  5,  7,  8,  9, 10, 11, 12, 13, 14, 16, 17, 15,\n",
       "        18, 19, 20]))"
      ]
     },
     "execution_count": 102,
     "metadata": {},
     "output_type": "execute_result"
    }
   ],
   "source": [
    "g.cv_results_['params'], g.cv_results_['mean_test_score'], g.cv_results_['rank_test_score']"
   ]
  },
  {
   "cell_type": "markdown",
   "metadata": {},
   "source": [
    "### Model 4"
   ]
  },
  {
   "cell_type": "code",
   "execution_count": 105,
   "metadata": {},
   "outputs": [
    {
     "ename": "AttributeError",
     "evalue": "'GridSearchCV' object has no attribute 'grid_scores_'",
     "output_type": "error",
     "traceback": [
      "\u001b[1;31m---------------------------------------------------------------------------\u001b[0m",
      "\u001b[1;31mAttributeError\u001b[0m                            Traceback (most recent call last)",
      "\u001b[1;32m<ipython-input-105-bea49915c682>\u001b[0m in \u001b[0;36m<module>\u001b[1;34m\u001b[0m\n\u001b[0;32m     12\u001b[0m \u001b[1;33m\u001b[0m\u001b[0m\n\u001b[0;32m     13\u001b[0m \u001b[0mg\u001b[0m\u001b[1;33m.\u001b[0m\u001b[0mfit\u001b[0m\u001b[1;33m(\u001b[0m\u001b[0mX\u001b[0m\u001b[1;33m,\u001b[0m\u001b[0my\u001b[0m\u001b[1;33m)\u001b[0m\u001b[1;33m\u001b[0m\u001b[1;33m\u001b[0m\u001b[0m\n\u001b[1;32m---> 14\u001b[1;33m \u001b[0mg\u001b[0m\u001b[1;33m.\u001b[0m\u001b[0mgrid_scores_\u001b[0m\u001b[1;33m,\u001b[0m \u001b[0mg\u001b[0m\u001b[1;33m.\u001b[0m\u001b[0mbest_params_\u001b[0m\u001b[1;33m,\u001b[0m \u001b[0mg\u001b[0m\u001b[1;33m.\u001b[0m\u001b[0mbest_score_\u001b[0m\u001b[1;33m\u001b[0m\u001b[1;33m\u001b[0m\u001b[0m\n\u001b[0m",
      "\u001b[1;31mAttributeError\u001b[0m: 'GridSearchCV' object has no attribute 'grid_scores_'"
     ]
    }
   ],
   "source": [
    "params = {\n",
    " 'max_depth':[3],\n",
    " 'min_child_weight':[5],\n",
    " 'learning_rate':[0.1, 0.5, 1],\n",
    " 'subsample':[0.7, 0.8, 0.9],\n",
    " 'scale_pos_weight': [4, 5, 6],\n",
    " 'colsample_bytree':[0.7, 0.8, 0.9],\n",
    " 'n_estimators': [100, 150, 200]   \n",
    "}\n",
    "\n",
    "g = GridSearchCV(estimator = xgb.XGBClassifier(objective= 'binary:logistic'), param_grid = params, scoring='roc_auc', cv=5)\n",
    "\n",
    "g.fit(X,y)"
   ]
  },
  {
   "cell_type": "code",
   "execution_count": 106,
   "metadata": {},
   "outputs": [
    {
     "data": {
      "text/plain": [
       "({'colsample_bytree': 0.7,\n",
       "  'learning_rate': 0.1,\n",
       "  'max_depth': 3,\n",
       "  'min_child_weight': 5,\n",
       "  'n_estimators': 100,\n",
       "  'scale_pos_weight': 5,\n",
       "  'subsample': 0.9},\n",
       " 0.8507907060602988)"
      ]
     },
     "execution_count": 106,
     "metadata": {},
     "output_type": "execute_result"
    }
   ],
   "source": [
    "g.best_params_, g.best_score_"
   ]
  },
  {
   "cell_type": "code",
   "execution_count": 120,
   "metadata": {},
   "outputs": [
    {
     "data": {
      "text/plain": [
       "XGBClassifier(base_score=0.5, booster='gbtree', colsample_bylevel=1,\n",
       "              colsample_bynode=1, colsample_bytree=0.7, gamma=0,\n",
       "              learning_rate=0.1, max_delta_step=0, max_depth=3,\n",
       "              min_child_weight=5, missing=None, n_estimators=100, n_jobs=1,\n",
       "              nthread=None, objective='binary:logistic', random_state=0,\n",
       "              reg_alpha=0, reg_lambda=1, scale_pos_weight=5, seed=None,\n",
       "              silent=None, subsample=0.9, verbosity=1)"
      ]
     },
     "execution_count": 120,
     "metadata": {},
     "output_type": "execute_result"
    }
   ],
   "source": [
    "g.best_estimator_"
   ]
  },
  {
   "cell_type": "code",
   "execution_count": 108,
   "metadata": {},
   "outputs": [
    {
     "data": {
      "text/plain": [
       "array([[1584,  220],\n",
       "       [  67,  129]], dtype=int64)"
      ]
     },
     "execution_count": 108,
     "metadata": {},
     "output_type": "execute_result"
    }
   ],
   "source": [
    "model = g.best_estimator_\n",
    "\n",
    "model.fit(X_train, y_train)\n",
    "\n",
    "confusion_matrix(y_val, model.predict(X_val))"
   ]
  },
  {
   "cell_type": "code",
   "execution_count": 109,
   "metadata": {},
   "outputs": [
    {
     "data": {
      "text/plain": [
       "0.7681060228969636"
      ]
     },
     "execution_count": 109,
     "metadata": {},
     "output_type": "execute_result"
    }
   ],
   "source": [
    "roc_auc_score(y_val, model.predict(X_val))"
   ]
  },
  {
   "cell_type": "code",
   "execution_count": 111,
   "metadata": {},
   "outputs": [
    {
     "data": {
      "text/plain": [
       "StratifiedKFold(n_splits=10, random_state=None, shuffle=False)"
      ]
     },
     "execution_count": 111,
     "metadata": {},
     "output_type": "execute_result"
    }
   ],
   "source": [
    "skf = StratifiedKFold(n_splits=10)\n",
    "skf.get_n_splits(X, y)\n",
    "skf"
   ]
  },
  {
   "cell_type": "code",
   "execution_count": 122,
   "metadata": {},
   "outputs": [],
   "source": [
    "roc = []\n",
    "acc = []\n",
    "f1 = []\n",
    "\n",
    "for train_index, test_index in skf.split(X, y):\n",
    "    X_train, X_test = X.iloc[train_index,], X.iloc[test_index,]\n",
    "    y_train, y_test = y[train_index], y[test_index]\n",
    "    \n",
    "    model = xgb.XGBClassifier(base_score=0.5, booster='gbtree', colsample_bylevel=1,\n",
    "              colsample_bynode=1, colsample_bytree=0.7, gamma=0,\n",
    "              learning_rate=0.1, max_delta_step=0, max_depth=3,\n",
    "              min_child_weight=5, missing=None, n_estimators=100, n_jobs=1,\n",
    "              nthread=None, objective='binary:logistic', random_state=0,\n",
    "              reg_alpha=0, reg_lambda=1, scale_pos_weight=5, seed=None,\n",
    "              silent=None, subsample=0.9, verbosity=1)\n",
    "    \n",
    "    model.fit(X_train, y_train)\n",
    "    \n",
    "    y_pred = model.predict(X_test)\n",
    "    roc.append(roc_auc_score(y_test, y_pred))\n",
    "    acc.append(accuracy_score(y_test, y_pred))\n",
    "    f1.append(f1_score(y_test, y_pred, average = \"macro\"))"
   ]
  },
  {
   "cell_type": "code",
   "execution_count": 124,
   "metadata": {},
   "outputs": [
    {
     "data": {
      "text/plain": [
       "(0.7489450706442473, 0.019363772610062325)"
      ]
     },
     "execution_count": 124,
     "metadata": {},
     "output_type": "execute_result"
    }
   ],
   "source": [
    "np.mean(roc), np.std(roc)"
   ]
  },
  {
   "cell_type": "code",
   "execution_count": 125,
   "metadata": {},
   "outputs": [
    {
     "data": {
      "text/plain": [
       "(0.8516999999999999, 0.00741687265631547)"
      ]
     },
     "execution_count": 125,
     "metadata": {},
     "output_type": "execute_result"
    }
   ],
   "source": [
    "np.mean(acc), np.std(acc)"
   ]
  },
  {
   "cell_type": "code",
   "execution_count": 126,
   "metadata": {},
   "outputs": [
    {
     "data": {
      "text/plain": [
       "(0.6827895060850308, 0.014677903094621175)"
      ]
     },
     "execution_count": 126,
     "metadata": {},
     "output_type": "execute_result"
    }
   ],
   "source": [
    "np.mean(f1), np.std(f1)"
   ]
  },
  {
   "cell_type": "markdown",
   "metadata": {},
   "source": [
    "## Neural Network "
   ]
  },
  {
   "cell_type": "code",
   "execution_count": 306,
   "metadata": {},
   "outputs": [],
   "source": [
    "import numpy as np\n",
    "import keras\n",
    "from keras.models import Sequential\n",
    "from keras.layers import Dense, Dropout\n",
    "from keras.regularizers import l2\n",
    "from keras.callbacks import History\n",
    "from keras import backend as K\n",
    "from sklearn.preprocessing import StandardScaler\n",
    "import tensorflow as tf"
   ]
  },
  {
   "cell_type": "code",
   "execution_count": 275,
   "metadata": {},
   "outputs": [],
   "source": [
    "X_train, X_val, y_train, y_val = train_test_split(X, y, stratify = y, random_state = 0, test_size = 0.1)"
   ]
  },
  {
   "cell_type": "code",
   "execution_count": 276,
   "metadata": {},
   "outputs": [
    {
     "data": {
      "text/plain": [
       "(9000, 13)"
      ]
     },
     "execution_count": 276,
     "metadata": {},
     "output_type": "execute_result"
    }
   ],
   "source": [
    "X_train.shape"
   ]
  },
  {
   "cell_type": "code",
   "execution_count": 277,
   "metadata": {},
   "outputs": [],
   "source": [
    "sc = StandardScaler()\n",
    "X_train_std = sc.fit_transform(X_train)\n",
    "X_val_std = sc.transform(X_val)"
   ]
  },
  {
   "cell_type": "code",
   "execution_count": 278,
   "metadata": {},
   "outputs": [],
   "source": [
    "def auc(y_true, y_pred):\n",
    "    auc = tf.metrics.auc(y_true, y_pred)[1]\n",
    "    K.get_session().run(tf.local_variables_initializer())\n",
    "    return auc"
   ]
  },
  {
   "cell_type": "code",
   "execution_count": 327,
   "metadata": {},
   "outputs": [
    {
     "name": "stdout",
     "output_type": "stream",
     "text": [
      "_________________________________________________________________\n",
      "Layer (type)                 Output Shape              Param #   \n",
      "=================================================================\n",
      "dense_160 (Dense)            (None, 16)                224       \n",
      "_________________________________________________________________\n",
      "dense_161 (Dense)            (None, 8)                 136       \n",
      "_________________________________________________________________\n",
      "dense_162 (Dense)            (None, 4)                 36        \n",
      "_________________________________________________________________\n",
      "dense_163 (Dense)            (None, 1)                 5         \n",
      "=================================================================\n",
      "Total params: 401\n",
      "Trainable params: 401\n",
      "Non-trainable params: 0\n",
      "_________________________________________________________________\n"
     ]
    }
   ],
   "source": [
    "history = History()\n",
    "\n",
    "classifier = Sequential()\n",
    "\n",
    "classifier.add(Dense(units = 16, activation = 'relu', input_dim = 13))\n",
    "classifier.add(Dense(units = 8, activation = 'relu'))\n",
    "classifier.add(Dense(units = 4, activation = 'relu'))\n",
    "classifier.add(Dense(units = 1, activation ='sigmoid'))\n",
    "\n",
    "# Compiling the ANN\n",
    "classifier.compile(optimizer = \"adam\", loss = 'binary_crossentropy', metrics = [auc])\n",
    "\n",
    "classifier.summary()"
   ]
  },
  {
   "cell_type": "code",
   "execution_count": 328,
   "metadata": {},
   "outputs": [
    {
     "name": "stdout",
     "output_type": "stream",
     "text": [
      "Train on 8100 samples, validate on 900 samples\n",
      "Epoch 1/100\n",
      "8100/8100 [==============================] - 8s 1ms/step - loss: 1.2446 - auc: 0.5445 - val_loss: 1.0320 - val_auc: 0.5906\n",
      "Epoch 2/100\n",
      "8100/8100 [==============================] - 1s 112us/step - loss: 1.2031 - auc: 0.6183 - val_loss: 1.0035 - val_auc: 0.6440\n",
      "Epoch 3/100\n",
      "8100/8100 [==============================] - 1s 119us/step - loss: 1.1619 - auc: 0.6614 - val_loss: 0.9635 - val_auc: 0.6820\n",
      "Epoch 4/100\n",
      "8100/8100 [==============================] - 1s 115us/step - loss: 1.1097 - auc: 0.6977 - val_loss: 0.9100 - val_auc: 0.7138\n",
      "Epoch 5/100\n",
      "8100/8100 [==============================] - 1s 117us/step - loss: 1.0549 - auc: 0.7273 - val_loss: 0.8627 - val_auc: 0.7381\n",
      "Epoch 6/100\n",
      "8100/8100 [==============================] - 1s 123us/step - loss: 1.0119 - auc: 0.7471 - val_loss: 0.8371 - val_auc: 0.7553\n",
      "Epoch 7/100\n",
      "8100/8100 [==============================] - 1s 154us/step - loss: 0.9805 - auc: 0.7614 - val_loss: 0.8243 - val_auc: 0.7677\n",
      "Epoch 8/100\n",
      "8100/8100 [==============================] - 1s 108us/step - loss: 0.9581 - auc: 0.7723 - val_loss: 0.8103 - val_auc: 0.7759\n",
      "Epoch 9/100\n",
      "8100/8100 [==============================] - 1s 138us/step - loss: 0.9421 - auc: 0.7793 - val_loss: 0.8127 - val_auc: 0.7825\n",
      "Epoch 10/100\n",
      "8100/8100 [==============================] - 1s 114us/step - loss: 0.9296 - auc: 0.7855 - val_loss: 0.7980 - val_auc: 0.7876\n",
      "Epoch 11/100\n",
      "8100/8100 [==============================] - 1s 151us/step - loss: 0.9176 - auc: 0.7903 - val_loss: 0.8043 - val_auc: 0.7920\n",
      "Epoch 12/100\n",
      "8100/8100 [==============================] - 1s 114us/step - loss: 0.9093 - auc: 0.7940 - val_loss: 0.7974 - val_auc: 0.7956\n",
      "Epoch 13/100\n",
      "8100/8100 [==============================] - 1s 112us/step - loss: 0.8966 - auc: 0.7974 - val_loss: 0.7912 - val_auc: 0.7987\n",
      "Epoch 14/100\n",
      "8100/8100 [==============================] - 1s 98us/step - loss: 0.8726 - auc: 0.8000 - val_loss: 0.7727 - val_auc: 0.8015\n",
      "Epoch 15/100\n",
      "8100/8100 [==============================] - 1s 106us/step - loss: 0.8609 - auc: 0.8028 - val_loss: 0.7736 - val_auc: 0.8041\n",
      "Epoch 16/100\n",
      "8100/8100 [==============================] - 1s 93us/step - loss: 0.8522 - auc: 0.8055 - val_loss: 0.7785 - val_auc: 0.8066\n",
      "Epoch 17/100\n",
      "8100/8100 [==============================] - 1s 87us/step - loss: 0.8460 - auc: 0.8081 - val_loss: 0.7688 - val_auc: 0.8090\n",
      "Epoch 18/100\n",
      "8100/8100 [==============================] - 1s 112us/step - loss: 0.8382 - auc: 0.8104 - val_loss: 0.7690 - val_auc: 0.8114\n",
      "Epoch 19/100\n",
      "8100/8100 [==============================] - 1s 96us/step - loss: 0.8363 - auc: 0.8126 - val_loss: 0.7854 - val_auc: 0.8137\n",
      "Epoch 20/100\n",
      "8100/8100 [==============================] - 1s 84us/step - loss: 0.8320 - auc: 0.8148 - val_loss: 0.7686 - val_auc: 0.8158\n",
      "Epoch 21/100\n",
      "8100/8100 [==============================] - 1s 88us/step - loss: 0.8271 - auc: 0.8166 - val_loss: 0.7675 - val_auc: 0.8178\n",
      "Epoch 22/100\n",
      "8100/8100 [==============================] - 1s 102us/step - loss: 0.8240 - auc: 0.8189 - val_loss: 0.7681 - val_auc: 0.8198\n",
      "Epoch 23/100\n",
      "8100/8100 [==============================] - 1s 84us/step - loss: 0.8217 - auc: 0.8206 - val_loss: 0.7606 - val_auc: 0.8216\n",
      "Epoch 24/100\n",
      "8100/8100 [==============================] - 1s 87us/step - loss: 0.8179 - auc: 0.8225 - val_loss: 0.7629 - val_auc: 0.8234\n",
      "Epoch 25/100\n",
      "8100/8100 [==============================] - 1s 85us/step - loss: 0.8155 - auc: 0.8241 - val_loss: 0.7624 - val_auc: 0.8250\n",
      "Epoch 26/100\n",
      "8100/8100 [==============================] - 1s 85us/step - loss: 0.8127 - auc: 0.8260 - val_loss: 0.7567 - val_auc: 0.8266\n",
      "Epoch 27/100\n",
      "8100/8100 [==============================] - 1s 97us/step - loss: 0.8094 - auc: 0.8273 - val_loss: 0.7645 - val_auc: 0.8281\n",
      "Epoch 28/100\n",
      "8100/8100 [==============================] - 1s 114us/step - loss: 0.8091 - auc: 0.8289 - val_loss: 0.7631 - val_auc: 0.8296\n",
      "Epoch 29/100\n",
      "8100/8100 [==============================] - 1s 114us/step - loss: 0.8080 - auc: 0.8303 - val_loss: 0.7598 - val_auc: 0.8309\n",
      "Epoch 30/100\n",
      "8100/8100 [==============================] - 1s 123us/step - loss: 0.8046 - auc: 0.8317 - val_loss: 0.7653 - val_auc: 0.8322\n",
      "Epoch 31/100\n",
      "8100/8100 [==============================] - 1s 125us/step - loss: 0.8033 - auc: 0.8330 - val_loss: 0.7712 - val_auc: 0.8335\n",
      "Epoch 32/100\n",
      "8100/8100 [==============================] - 1s 113us/step - loss: 0.8014 - auc: 0.8340 - val_loss: 0.7628 - val_auc: 0.8347\n",
      "Epoch 33/100\n",
      "8100/8100 [==============================] - 1s 117us/step - loss: 0.7989 - auc: 0.8352 - val_loss: 0.7545 - val_auc: 0.8358\n",
      "Epoch 34/100\n",
      "8100/8100 [==============================] - 1s 133us/step - loss: 0.7985 - auc: 0.8364 - val_loss: 0.7557 - val_auc: 0.8369\n",
      "Epoch 35/100\n",
      "8100/8100 [==============================] - 1s 115us/step - loss: 0.7971 - auc: 0.8375 - val_loss: 0.7543 - val_auc: 0.8380\n",
      "Epoch 36/100\n",
      "8100/8100 [==============================] - 1s 117us/step - loss: 0.7957 - auc: 0.8386 - val_loss: 0.7528 - val_auc: 0.8390\n",
      "Epoch 37/100\n",
      "8100/8100 [==============================] - 1s 118us/step - loss: 0.7940 - auc: 0.8395 - val_loss: 0.7611 - val_auc: 0.8400\n",
      "Epoch 38/100\n",
      "8100/8100 [==============================] - 1s 119us/step - loss: 0.7916 - auc: 0.8405 - val_loss: 0.7636 - val_auc: 0.8409\n",
      "Epoch 39/100\n",
      "8100/8100 [==============================] - 1s 117us/step - loss: 0.7903 - auc: 0.8413 - val_loss: 0.7558 - val_auc: 0.8418\n",
      "Epoch 40/100\n",
      "8100/8100 [==============================] - 1s 113us/step - loss: 0.7876 - auc: 0.8423 - val_loss: 0.7786 - val_auc: 0.8427\n",
      "Epoch 41/100\n",
      "8100/8100 [==============================] - 1s 140us/step - loss: 0.7888 - auc: 0.8430 - val_loss: 0.7555 - val_auc: 0.8435\n",
      "Epoch 42/100\n",
      "8100/8100 [==============================] - 1s 114us/step - loss: 0.7862 - auc: 0.8439 - val_loss: 0.7622 - val_auc: 0.8443\n",
      "Epoch 43/100\n",
      "8100/8100 [==============================] - 1s 117us/step - loss: 0.7853 - auc: 0.8447 - val_loss: 0.7534 - val_auc: 0.8451\n",
      "Epoch 44/100\n",
      "8100/8100 [==============================] - 1s 103us/step - loss: 0.7858 - auc: 0.8455 - val_loss: 0.7663 - val_auc: 0.8458\n",
      "Epoch 45/100\n",
      "8100/8100 [==============================] - 1s 103us/step - loss: 0.7835 - auc: 0.8461 - val_loss: 0.7597 - val_auc: 0.8465\n",
      "Epoch 46/100\n",
      "8100/8100 [==============================] - 1s 101us/step - loss: 0.7839 - auc: 0.8469 - val_loss: 0.7570 - val_auc: 0.8472\n",
      "Epoch 47/100\n",
      "8100/8100 [==============================] - 1s 104us/step - loss: 0.7836 - auc: 0.8475 - val_loss: 0.7601 - val_auc: 0.8479\n",
      "Epoch 48/100\n",
      "8100/8100 [==============================] - 1s 96us/step - loss: 0.7794 - auc: 0.8481 - val_loss: 0.7437 - val_auc: 0.8486\n",
      "Epoch 49/100\n",
      "8100/8100 [==============================] - 1s 86us/step - loss: 0.7787 - auc: 0.8489 - val_loss: 0.7533 - val_auc: 0.8492\n",
      "Epoch 50/100\n",
      "8100/8100 [==============================] - 1s 89us/step - loss: 0.7765 - auc: 0.8496 - val_loss: 0.7709 - val_auc: 0.8498\n",
      "Epoch 51/100\n",
      "8100/8100 [==============================] - 1s 92us/step - loss: 0.7768 - auc: 0.8501 - val_loss: 0.7513 - val_auc: 0.8505\n",
      "Epoch 52/100\n",
      "8100/8100 [==============================] - 1s 107us/step - loss: 0.7749 - auc: 0.8508 - val_loss: 0.7524 - val_auc: 0.8511\n",
      "Epoch 53/100\n",
      "8100/8100 [==============================] - 1s 92us/step - loss: 0.7748 - auc: 0.8514 - val_loss: 0.7562 - val_auc: 0.8516\n",
      "Epoch 54/100\n",
      "8100/8100 [==============================] - 1s 89us/step - loss: 0.7730 - auc: 0.8519 - val_loss: 0.7588 - val_auc: 0.8522\n",
      "Epoch 55/100\n",
      "8100/8100 [==============================] - 1s 122us/step - loss: 0.7701 - auc: 0.8525 - val_loss: 0.7549 - val_auc: 0.8527\n",
      "Epoch 56/100\n",
      "8100/8100 [==============================] - 1s 117us/step - loss: 0.7698 - auc: 0.8530 - val_loss: 0.7587 - val_auc: 0.8533\n",
      "Epoch 57/100\n",
      "8100/8100 [==============================] - 1s 101us/step - loss: 0.7691 - auc: 0.8536 - val_loss: 0.7585 - val_auc: 0.8538\n",
      "Epoch 58/100\n",
      "8100/8100 [==============================] - 1s 107us/step - loss: 0.7682 - auc: 0.8540 - val_loss: 0.7605 - val_auc: 0.8543\n",
      "Epoch 59/100\n",
      "8100/8100 [==============================] - 1s 104us/step - loss: 0.7658 - auc: 0.8546 - val_loss: 0.7709 - val_auc: 0.8548\n",
      "Epoch 60/100\n",
      "8100/8100 [==============================] - 1s 102us/step - loss: 0.7667 - auc: 0.8551 - val_loss: 0.7639 - val_auc: 0.8553\n",
      "Epoch 61/100\n",
      "8100/8100 [==============================] - 1s 88us/step - loss: 0.7656 - auc: 0.8555 - val_loss: 0.7639 - val_auc: 0.8558\n",
      "Epoch 62/100\n",
      "8100/8100 [==============================] - 1s 115us/step - loss: 0.7644 - auc: 0.8560 - val_loss: 0.7650 - val_auc: 0.8562\n",
      "Epoch 63/100\n",
      "8100/8100 [==============================] - 1s 116us/step - loss: 0.7627 - auc: 0.8565 - val_loss: 0.7818 - val_auc: 0.8567\n",
      "Epoch 64/100\n",
      "8100/8100 [==============================] - 1s 119us/step - loss: 0.7621 - auc: 0.8569 - val_loss: 0.7659 - val_auc: 0.8571\n",
      "Epoch 65/100\n",
      "8100/8100 [==============================] - 1s 116us/step - loss: 0.7618 - auc: 0.8574 - val_loss: 0.7687 - val_auc: 0.8576\n",
      "Epoch 66/100\n",
      "8100/8100 [==============================] - 1s 115us/step - loss: 0.7607 - auc: 0.8578 - val_loss: 0.7663 - val_auc: 0.8580\n",
      "Epoch 67/100\n",
      "8100/8100 [==============================] - 1s 116us/step - loss: 0.7615 - auc: 0.8582 - val_loss: 0.7704 - val_auc: 0.8584\n",
      "Epoch 68/100\n",
      "8100/8100 [==============================] - 1s 113us/step - loss: 0.7595 - auc: 0.8586 - val_loss: 0.7638 - val_auc: 0.8588\n",
      "Wall time: 1min 8s\n"
     ]
    },
    {
     "data": {
      "text/plain": [
       "<keras.callbacks.History at 0x1d6405bcba8>"
      ]
     },
     "execution_count": 328,
     "metadata": {},
     "output_type": "execute_result"
    }
   ],
   "source": [
    "%%time\n",
    "# fit the model\n",
    "classifier.fit(X_train_std, y_train, epochs=100, batch_size=50, validation_split=0.1, verbose=1, class_weight = {0:1, 1:9},\n",
    "          callbacks = [history, keras.callbacks.EarlyStopping(monitor='val_loss', min_delta=0, patience=20, verbose=0, mode='auto')])"
   ]
  },
  {
   "cell_type": "code",
   "execution_count": 329,
   "metadata": {},
   "outputs": [
    {
     "data": {
      "text/plain": [
       "array([[6348, 1768],\n",
       "       [ 157,  727]], dtype=int64)"
      ]
     },
     "execution_count": 329,
     "metadata": {},
     "output_type": "execute_result"
    }
   ],
   "source": [
    "y_preds = classifier.predict_classes(X_train_std)\n",
    "\n",
    "confusion_matrix(y_train, y_preds)"
   ]
  },
  {
   "cell_type": "code",
   "execution_count": 330,
   "metadata": {},
   "outputs": [
    {
     "data": {
      "text/plain": [
       "0.8022784444558427"
      ]
     },
     "execution_count": 330,
     "metadata": {},
     "output_type": "execute_result"
    }
   ],
   "source": [
    "roc_auc_score(y_train, y_preds)"
   ]
  },
  {
   "cell_type": "code",
   "execution_count": 331,
   "metadata": {},
   "outputs": [
    {
     "data": {
      "text/plain": [
       "array([[686, 216],\n",
       "       [ 21,  77]], dtype=int64)"
      ]
     },
     "execution_count": 331,
     "metadata": {},
     "output_type": "execute_result"
    }
   ],
   "source": [
    "y_preds = classifier.predict_classes(X_val_std)\n",
    "\n",
    "confusion_matrix(y_val, y_preds)"
   ]
  },
  {
   "cell_type": "code",
   "execution_count": 332,
   "metadata": {},
   "outputs": [
    {
     "data": {
      "text/plain": [
       "0.7731232182451694"
      ]
     },
     "execution_count": 332,
     "metadata": {},
     "output_type": "execute_result"
    }
   ],
   "source": [
    "roc_auc_score(y_val, y_preds)"
   ]
  },
  {
   "cell_type": "code",
   "execution_count": null,
   "metadata": {},
   "outputs": [],
   "source": []
  }
 ],
 "metadata": {
  "kernelspec": {
   "display_name": "Python 3",
   "language": "python",
   "name": "python3"
  },
  "language_info": {
   "codemirror_mode": {
    "name": "ipython",
    "version": 3
   },
   "file_extension": ".py",
   "mimetype": "text/x-python",
   "name": "python",
   "nbconvert_exporter": "python",
   "pygments_lexer": "ipython3",
   "version": "3.7.3"
  }
 },
 "nbformat": 4,
 "nbformat_minor": 2
}
