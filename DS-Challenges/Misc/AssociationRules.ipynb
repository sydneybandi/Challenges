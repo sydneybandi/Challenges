{
 "cells": [
  {
   "cell_type": "code",
   "execution_count": 56,
   "metadata": {},
   "outputs": [],
   "source": [
    "import wget\n",
    "import numpy as np\n",
    "import pandas as pd\n",
    "import matplotlib.pyplot as plt\n",
    "from sklearn import linear_model\n",
    "\n",
    "# Reading Data\n",
    "train_dir = wget.download(\"https://s3.amazonaws.com/istreet-questions-us-east-1/443606/census.csv\")\n",
    "df = pd.read_csv(train_dir, header = None)\n",
    "\n",
    "cols = []\n",
    "for i in range(0, len(df.columns)):\n",
    "    cols.append(df.iloc[0,i].split('=')[0])\n",
    "    df.iloc[:, i] = [k[1] for k in df.iloc[:,i].str.split('=')]\n",
    "df.columns = cols"
   ]
  },
  {
   "cell_type": "code",
   "execution_count": 57,
   "metadata": {},
   "outputs": [
    {
     "data": {
      "text/html": [
       "<div>\n",
       "<style scoped>\n",
       "    .dataframe tbody tr th:only-of-type {\n",
       "        vertical-align: middle;\n",
       "    }\n",
       "\n",
       "    .dataframe tbody tr th {\n",
       "        vertical-align: top;\n",
       "    }\n",
       "\n",
       "    .dataframe thead th {\n",
       "        text-align: right;\n",
       "    }\n",
       "</style>\n",
       "<table border=\"1\" class=\"dataframe\">\n",
       "  <thead>\n",
       "    <tr style=\"text-align: right;\">\n",
       "      <th></th>\n",
       "      <th>age</th>\n",
       "      <th>sex</th>\n",
       "      <th>education</th>\n",
       "      <th>native-country</th>\n",
       "      <th>race</th>\n",
       "      <th>marital-status</th>\n",
       "      <th>workclass</th>\n",
       "      <th>occupation</th>\n",
       "      <th>hours-per-week</th>\n",
       "      <th>income</th>\n",
       "      <th>capital-gain</th>\n",
       "      <th>capital-loss</th>\n",
       "    </tr>\n",
       "  </thead>\n",
       "  <tbody>\n",
       "    <tr>\n",
       "      <th>0</th>\n",
       "      <td>Middle-aged</td>\n",
       "      <td>Male</td>\n",
       "      <td>Bachelors</td>\n",
       "      <td>United-States</td>\n",
       "      <td>White</td>\n",
       "      <td>Never-married</td>\n",
       "      <td>State-gov</td>\n",
       "      <td>Adm-clerical</td>\n",
       "      <td>Full-time</td>\n",
       "      <td>Small</td>\n",
       "      <td>Low</td>\n",
       "      <td>None</td>\n",
       "    </tr>\n",
       "    <tr>\n",
       "      <th>1</th>\n",
       "      <td>Senior</td>\n",
       "      <td>Male</td>\n",
       "      <td>Bachelors</td>\n",
       "      <td>United-States</td>\n",
       "      <td>White</td>\n",
       "      <td>Married-civ-spouse</td>\n",
       "      <td>Self-emp-not-inc</td>\n",
       "      <td>Exec-managerial</td>\n",
       "      <td>Part-time</td>\n",
       "      <td>Small</td>\n",
       "      <td>None</td>\n",
       "      <td>None</td>\n",
       "    </tr>\n",
       "    <tr>\n",
       "      <th>2</th>\n",
       "      <td>Middle-aged</td>\n",
       "      <td>Male</td>\n",
       "      <td>HS-grad</td>\n",
       "      <td>United-States</td>\n",
       "      <td>White</td>\n",
       "      <td>Divorced</td>\n",
       "      <td>Private</td>\n",
       "      <td>Handlers-cleaners</td>\n",
       "      <td>Full-time</td>\n",
       "      <td>Small</td>\n",
       "      <td>None</td>\n",
       "      <td>None</td>\n",
       "    </tr>\n",
       "    <tr>\n",
       "      <th>3</th>\n",
       "      <td>Senior</td>\n",
       "      <td>Male</td>\n",
       "      <td>11th</td>\n",
       "      <td>United-States</td>\n",
       "      <td>Black</td>\n",
       "      <td>Married-civ-spouse</td>\n",
       "      <td>Private</td>\n",
       "      <td>Handlers-cleaners</td>\n",
       "      <td>Full-time</td>\n",
       "      <td>Small</td>\n",
       "      <td>None</td>\n",
       "      <td>None</td>\n",
       "    </tr>\n",
       "    <tr>\n",
       "      <th>4</th>\n",
       "      <td>Middle-aged</td>\n",
       "      <td>Female</td>\n",
       "      <td>Bachelors</td>\n",
       "      <td>Cuba</td>\n",
       "      <td>Black</td>\n",
       "      <td>Married-civ-spouse</td>\n",
       "      <td>Private</td>\n",
       "      <td>Prof-specialty</td>\n",
       "      <td>Full-time</td>\n",
       "      <td>Small</td>\n",
       "      <td>None</td>\n",
       "      <td>None</td>\n",
       "    </tr>\n",
       "  </tbody>\n",
       "</table>\n",
       "</div>"
      ],
      "text/plain": [
       "           age     sex  education native-country   race      marital-status  \\\n",
       "0  Middle-aged    Male  Bachelors  United-States  White       Never-married   \n",
       "1       Senior    Male  Bachelors  United-States  White  Married-civ-spouse   \n",
       "2  Middle-aged    Male    HS-grad  United-States  White            Divorced   \n",
       "3       Senior    Male       11th  United-States  Black  Married-civ-spouse   \n",
       "4  Middle-aged  Female  Bachelors           Cuba  Black  Married-civ-spouse   \n",
       "\n",
       "          workclass         occupation hours-per-week income capital-gain  \\\n",
       "0         State-gov       Adm-clerical      Full-time  Small          Low   \n",
       "1  Self-emp-not-inc    Exec-managerial      Part-time  Small         None   \n",
       "2           Private  Handlers-cleaners      Full-time  Small         None   \n",
       "3           Private  Handlers-cleaners      Full-time  Small         None   \n",
       "4           Private     Prof-specialty      Full-time  Small         None   \n",
       "\n",
       "  capital-loss  \n",
       "0         None  \n",
       "1         None  \n",
       "2         None  \n",
       "3         None  \n",
       "4         None  "
      ]
     },
     "execution_count": 57,
     "metadata": {},
     "output_type": "execute_result"
    }
   ],
   "source": [
    "df.head()"
   ]
  },
  {
   "cell_type": "code",
   "execution_count": 58,
   "metadata": {},
   "outputs": [
    {
     "data": {
      "text/plain": [
       "['{native-country=United-States,capital-gain=None}=>{capital-loss=None}',\n",
       " '{native-country=United-States,capital-loss=None}=>{capital-gain=None}',\n",
       " '{capital-gain=None,capital-loss=None}=>{native-country=United-States}']"
      ]
     },
     "execution_count": 58,
     "metadata": {},
     "output_type": "execute_result"
    }
   ],
   "source": [
    "rules = ['{native-country=United-States,capital-gain=None}=>{capital-loss=None}',\n",
    "'{native-country=United-States,capital-loss=None}=>{capital-gain=None}',\n",
    "'{capital-gain=None,capital-loss=None}=>{native-country=United-States}']\n",
    "rules"
   ]
  },
  {
   "cell_type": "code",
   "execution_count": 85,
   "metadata": {},
   "outputs": [],
   "source": [
    "nrows = df.shape[0]\n",
    "def find_support(ls_rules):\n",
    "    temp_df = df.copy()\n",
    "    for l in ls_rules:\n",
    "        column, value = l.split('=')\n",
    "        temp_df = temp_df[temp_df[column] == value]\n",
    "    return temp_df.shape[0]/nrows\n",
    "\n",
    "def arrangingRules(rules):\n",
    "    \n",
    "    confidence_df = pd.DataFrame(columns=['Rule', 'Confidence'])\n",
    "    for r in rules:\n",
    "        a = r.split('=>')[0]\n",
    "        b = r.split('=>')[1]\n",
    "\n",
    "        a = re.sub('{', \"\", a)\n",
    "        a = re.sub('}', \"\", a)\n",
    "\n",
    "        b = re.sub('{', \"\", b)\n",
    "        b = re.sub('}', \"\", b)\n",
    "\n",
    "        ls_a = a.split(',')\n",
    "        ls_b = b.split(',')\n",
    "\n",
    "        support_a = find_support(ls_a)\n",
    "        support_ab = find_support(ls_a + ls_b)\n",
    "\n",
    "        confidence_atob = support_ab/support_a\n",
    "\n",
    "        confidence_df = confidence_df.append({'Rule':r, 'Confidence':confidence_atob}, ignore_index = True)\n",
    "    \n",
    "    confidence_df = confidence_df.sort_values(by='Confidence', ascending = False)\n",
    "    return list(confidence_df.Rule.values)"
   ]
  },
  {
   "cell_type": "code",
   "execution_count": 86,
   "metadata": {},
   "outputs": [
    {
     "data": {
      "text/plain": [
       "['{native-country=United-States,capital-gain=None}=>{capital-loss=None}',\n",
       " '{native-country=United-States,capital-loss=None}=>{capital-gain=None}',\n",
       " '{capital-gain=None,capital-loss=None}=>{native-country=United-States}']"
      ]
     },
     "execution_count": 86,
     "metadata": {},
     "output_type": "execute_result"
    }
   ],
   "source": [
    "arrangingRules(rules)"
   ]
  },
  {
   "cell_type": "code",
   "execution_count": null,
   "metadata": {},
   "outputs": [],
   "source": []
  }
 ],
 "metadata": {
  "kernelspec": {
   "display_name": "Python 3",
   "language": "python",
   "name": "python3"
  },
  "language_info": {
   "codemirror_mode": {
    "name": "ipython",
    "version": 3
   },
   "file_extension": ".py",
   "mimetype": "text/x-python",
   "name": "python",
   "nbconvert_exporter": "python",
   "pygments_lexer": "ipython3",
   "version": "3.7.3"
  }
 },
 "nbformat": 4,
 "nbformat_minor": 2
}
